{
 "cells": [
  {
   "cell_type": "markdown",
   "metadata": {},
   "source": [
    "\n",
    "# The impact of CEO turnover on company culture\n",
    "\n",
    "### William Zhu (wzhu4@uchicago.edu)\n",
    "\n"
   ]
  },
  {
   "source": [
    "This file (final_4.ipynb) covers section 4."
   ],
   "cell_type": "markdown",
   "metadata": {}
  },
  {
   "source": [
    "## 0. Importing packages"
   ],
   "cell_type": "markdown",
   "metadata": {}
  },
  {
   "cell_type": "code",
   "execution_count": 1,
   "metadata": {
    "collapsed": true
   },
   "outputs": [],
   "source": [
    "#Special module written for content analysis\n",
    "import lucem_illud #pip install -U git+git://github.com/UChicago-Computational-Content-Analysis/lucem_illud.git\n",
    "\n",
    "#For ML\n",
    "import sklearn\n",
    "import sklearn.naive_bayes\n",
    "import sklearn.tree\n",
    "import sklearn.ensemble\n",
    "import sklearn.neural_network\n",
    "import sklearn.decomposition\n",
    "from sklearn.ensemble import AdaBoostClassifier\n",
    "\n",
    "import numpy as np #arrays\n",
    "import matplotlib.pyplot as plt #Plots\n",
    "import matplotlib.colors # For nice colours\n",
    "import seaborn #Makes plots look nice, also heatmaps\n",
    "import scipy as sp #for interp\n",
    "plt.style.use('fivethirtyeight')\n",
    "import matplotlib.cm #Still for graphics\n",
    "import matplotlib.patches as mpatches\n",
    "import seaborn #Makes the graphics look nicer\n",
    "import spacy\n",
    "import nltk\n",
    "\n",
    "#%matplotlib inline\n",
    "\n",
    "#These are from the standard library\n",
    "import collections\n",
    "import os\n",
    "import os.path\n",
    "import random\n",
    "import re\n",
    "import glob\n",
    "import pandas\n",
    "import requests\n",
    "import json\n",
    "import math"
   ]
  },
  {
   "source": [
    "Importing data"
   ],
   "cell_type": "markdown",
   "metadata": {}
  },
  {
   "cell_type": "code",
   "execution_count": 3,
   "metadata": {},
   "outputs": [],
   "source": [
    "df = pandas.read_csv('clean_df.csv', index_col=0)"
   ]
  },
  {
   "cell_type": "code",
   "execution_count": 4,
   "metadata": {},
   "outputs": [
    {
     "output_type": "execute_result",
     "data": {
      "text/plain": [
       "   ID                                               text category  year  \\\n",
       "0   1  Best Company to work for People are smart and ...   google  2018   \n",
       "1   2  Moving at the speed of light, burn out is inev...   google  2013   \n",
       "2   3  Great balance between big-company security and...   google  2014   \n",
       "3   4  The best place I've worked and also the most d...   google  2015   \n",
       "4  10  Execellent for engineers Impact driven. Best t...   google  2018   \n",
       "\n",
       "   cat_id                                     tokenized_text  \\\n",
       "0       2  ['Best', 'Company', 'to', 'work', 'for', 'Peop...   \n",
       "1       2  ['Moving', 'at', 'the', 'speed', 'of', 'light'...   \n",
       "2       2  ['Great', 'balance', 'between', 'big', 'compan...   \n",
       "3       2  ['The', 'best', 'place', 'I', \"'ve\", 'worked',...   \n",
       "4       2  ['Execellent', 'for', 'engineers', 'Impact', '...   \n",
       "\n",
       "                                   normalized_tokens  \n",
       "0  ['well', 'company', 'work', 'people', 'smart',...  \n",
       "1  ['move', 'speed', 'light', 'burn', 'inevitable...  \n",
       "2  ['great', 'balance', 'big', 'company', 'securi...  \n",
       "3  ['well', 'place', 'have', 'work', 'demand', 'f...  \n",
       "4  ['execellent', 'engineer', 'impact', 'drive', ...  "
      ],
      "text/html": "<div>\n<style scoped>\n    .dataframe tbody tr th:only-of-type {\n        vertical-align: middle;\n    }\n\n    .dataframe tbody tr th {\n        vertical-align: top;\n    }\n\n    .dataframe thead th {\n        text-align: right;\n    }\n</style>\n<table border=\"1\" class=\"dataframe\">\n  <thead>\n    <tr style=\"text-align: right;\">\n      <th></th>\n      <th>ID</th>\n      <th>text</th>\n      <th>category</th>\n      <th>year</th>\n      <th>cat_id</th>\n      <th>tokenized_text</th>\n      <th>normalized_tokens</th>\n    </tr>\n  </thead>\n  <tbody>\n    <tr>\n      <td>0</td>\n      <td>1</td>\n      <td>Best Company to work for People are smart and ...</td>\n      <td>google</td>\n      <td>2018</td>\n      <td>2</td>\n      <td>['Best', 'Company', 'to', 'work', 'for', 'Peop...</td>\n      <td>['well', 'company', 'work', 'people', 'smart',...</td>\n    </tr>\n    <tr>\n      <td>1</td>\n      <td>2</td>\n      <td>Moving at the speed of light, burn out is inev...</td>\n      <td>google</td>\n      <td>2013</td>\n      <td>2</td>\n      <td>['Moving', 'at', 'the', 'speed', 'of', 'light'...</td>\n      <td>['move', 'speed', 'light', 'burn', 'inevitable...</td>\n    </tr>\n    <tr>\n      <td>2</td>\n      <td>3</td>\n      <td>Great balance between big-company security and...</td>\n      <td>google</td>\n      <td>2014</td>\n      <td>2</td>\n      <td>['Great', 'balance', 'between', 'big', 'compan...</td>\n      <td>['great', 'balance', 'big', 'company', 'securi...</td>\n    </tr>\n    <tr>\n      <td>3</td>\n      <td>4</td>\n      <td>The best place I've worked and also the most d...</td>\n      <td>google</td>\n      <td>2015</td>\n      <td>2</td>\n      <td>['The', 'best', 'place', 'I', \"'ve\", 'worked',...</td>\n      <td>['well', 'place', 'have', 'work', 'demand', 'f...</td>\n    </tr>\n    <tr>\n      <td>4</td>\n      <td>10</td>\n      <td>Execellent for engineers Impact driven. Best t...</td>\n      <td>google</td>\n      <td>2018</td>\n      <td>2</td>\n      <td>['Execellent', 'for', 'engineers', 'Impact', '...</td>\n      <td>['execellent', 'engineer', 'impact', 'drive', ...</td>\n    </tr>\n  </tbody>\n</table>\n</div>"
     },
     "metadata": {},
     "execution_count": 4
    }
   ],
   "source": [
    "df.head()"
   ]
  },
  {
   "source": [
    "## 4. Classification"
   ],
   "cell_type": "markdown",
   "metadata": {}
  },
  {
   "cell_type": "code",
   "execution_count": 5,
   "metadata": {},
   "outputs": [],
   "source": [
    "#only keep the 4 years of review\n",
    "keep = [2012, 2013, 2016, 2017]\n",
    "df = df.loc[df['year'].isin(keep)]\n",
    "\n",
    "# category = True if the review is from 2016 or 2017\n",
    "# category = False if the review is from 2012 or 2013\n",
    "df['category'] = [s > 2014 for s in df['year']]"
   ]
  },
  {
   "cell_type": "code",
   "execution_count": 6,
   "metadata": {},
   "outputs": [],
   "source": [
    "# Create 6 datasets\n",
    "df0 = df[df['cat_id']==0].reset_index()\n",
    "df1 = df[df['cat_id']==1].reset_index()\n",
    "df2 = df[df['cat_id']==2].reset_index()\n",
    "df3 = df[df['cat_id']==3].reset_index()\n",
    "df4 = df[df['cat_id']==4].reset_index()\n",
    "df5 = df[df['cat_id']==5].reset_index()"
   ]
  },
  {
   "cell_type": "code",
   "execution_count": 7,
   "metadata": {},
   "outputs": [
    {
     "output_type": "execute_result",
     "data": {
      "text/plain": [
       "2017    6678\n",
       "2016    4039\n",
       "2013     784\n",
       "2012     453\n",
       "Name: year, dtype: int64"
      ]
     },
     "metadata": {},
     "execution_count": 7
    }
   ],
   "source": [
    "# Amazon - no CEO change before 2018 (Jeff Bezos)\n",
    "df0['year'].value_counts()"
   ]
  },
  {
   "cell_type": "code",
   "execution_count": 8,
   "metadata": {},
   "outputs": [
    {
     "output_type": "execute_result",
     "data": {
      "text/plain": [
       "2017    94\n",
       "2016    83\n",
       "2013    55\n",
       "2012    45\n",
       "Name: year, dtype: int64"
      ]
     },
     "metadata": {},
     "execution_count": 8
    }
   ],
   "source": [
    "# Netflix - No CEO change before 2018 (Reed Hastings)\n",
    "df1['year'].value_counts()"
   ]
  },
  {
   "cell_type": "code",
   "execution_count": 9,
   "metadata": {},
   "outputs": [
    {
     "output_type": "execute_result",
     "data": {
      "text/plain": [
       "2017    1298\n",
       "2016    1186\n",
       "2013     394\n",
       "2012     272\n",
       "Name: year, dtype: int64"
      ]
     },
     "metadata": {},
     "execution_count": 9
    }
   ],
   "source": [
    "# Google - Eric Schmidt to 2011. Larry Page from 2011 to 2015\n",
    "# Sundar Pichai from 2015 onward\n",
    "df2['year'].value_counts()"
   ]
  },
  {
   "cell_type": "code",
   "execution_count": 10,
   "metadata": {},
   "outputs": [
    {
     "output_type": "execute_result",
     "data": {
      "text/plain": [
       "2016    2410\n",
       "2017    2207\n",
       "2013     793\n",
       "2012     395\n",
       "Name: year, dtype: int64"
      ]
     },
     "metadata": {},
     "execution_count": 10
    }
   ],
   "source": [
    "# Apple - Steve Jobs before 2009, periodic medical leave until resignation in 2011. Tim Cook (acting CEO in 2009, CEO in 2011)\n",
    "df3['year'].value_counts()"
   ]
  },
  {
   "cell_type": "code",
   "execution_count": 11,
   "metadata": {},
   "outputs": [
    {
     "output_type": "execute_result",
     "data": {
      "text/plain": [
       "2017    321\n",
       "2016    242\n",
       "2012    184\n",
       "2013     74\n",
       "Name: year, dtype: int64"
      ]
     },
     "metadata": {},
     "execution_count": 11
    }
   ],
   "source": [
    "# Facebook No CEO change before 2018 (Mark Zuckerberg)\n",
    "df4['year'].value_counts()"
   ]
  },
  {
   "cell_type": "code",
   "execution_count": 12,
   "metadata": {},
   "outputs": [
    {
     "output_type": "execute_result",
     "data": {
      "text/plain": [
       "2016    2626\n",
       "2017    2364\n",
       "2013    1559\n",
       "2012    1238\n",
       "Name: year, dtype: int64"
      ]
     },
     "metadata": {},
     "execution_count": 12
    }
   ],
   "source": [
    "# Microsoft Steve Ballmer before 2014. Satya Nadella since 2014\n",
    "df5['year'].value_counts()\n"
   ]
  },
  {
   "source": [
    "For this study, I will mainly focus on two CEO turnovers:\n",
    "\n",
    "1. Google (df2) 2015\n",
    "\n",
    "2. Microsoft (df5) 2014\n",
    "\n",
    "Since they all happend in 2014-2015, I will use 2012, 2013 reviews as pre, 2016, 2017 as post."
   ],
   "cell_type": "markdown",
   "metadata": {}
  },
  {
   "source": [
    "Control Groups:\n",
    "(pre: 2012, 2013. Post: 2016, 2017)\n",
    "\n",
    "1. Amazon (df0)\n",
    "\n",
    "2. Netflix (df1)\n",
    "\n",
    "3. Facebook (df4)\n",
    "\n",
    "4. Apple (df3)"
   ],
   "cell_type": "markdown",
   "metadata": {}
  },
  {
   "source": [
    "Hypothesis: If CEO has big impact on company reviews, I predict good classification prediction results for treatment groups. Bad classification prediction results for control groups."
   ],
   "cell_type": "markdown",
   "metadata": {}
  },
  {
   "cell_type": "code",
   "execution_count": 13,
   "metadata": {},
   "outputs": [],
   "source": [
    "#Bayes\n",
    "clf1 = sklearn.naive_bayes.BernoulliNB()\n",
    "\n",
    "#SVM\n",
    "clf2 = sklearn.svm.SVC(kernel = 'linear', probability = False, random_state=123) #slow, set probability = False to speed up\n",
    "\n",
    "# KNN\n",
    "clf3 = sklearn.neighbors.KNeighborsClassifier(2, weights='distance')# k, 'distance' or 'uniform'\n",
    "\n",
    "#Logistic Regression\n",
    "clf4 = sklearn.linear_model.LogisticRegression(penalty='l2')\n",
    "\n",
    "#Random Forest\n",
    "clf5 = sklearn.ensemble.RandomForestClassifier(random_state=123)\n",
    "\n",
    "#Neural Network\n",
    "clf6 = sklearn.neural_network.MLPClassifier(random_state=123)\n",
    "\n",
    "#Gradient boosting\n",
    "clf7 = sklearn.ensemble.GradientBoostingClassifier(random_state=123)\n",
    "\n",
    "#Ada Boost\n",
    "clf8 = AdaBoostClassifier(random_state=123)\n",
    "\n",
    "models = [clf1, clf2, clf3, clf4, clf5, clf6, clf7, clf8]"
   ]
  },
  {
   "source": [
    "1. Google (df2) 2015"
   ],
   "cell_type": "markdown",
   "metadata": {}
  },
  {
   "cell_type": "code",
   "execution_count": 14,
   "metadata": {},
   "outputs": [],
   "source": [
    "def data_prep(df):\n",
    "    #To make sure that the True-False ratio is 50-50, sample the large group with the size of the smaller group.\n",
    "    lim = min(len(df[df['category']==False]), 1000)\n",
    "\n",
    "    df = df.groupby('category').apply(lambda x: x.sample(lim, random_state=123) if len(x) > lim else x).reset_index(drop=True)\n",
    "    df['tokenized_text'] = df['text'].apply(lambda x: lucem_illud.word_tokenize(x))\n",
    "    df['normalized_text'] = df['tokenized_text'].apply(lambda x: lucem_illud.normalizeTokens(x))\n",
    "    return df"
   ]
  },
  {
   "cell_type": "code",
   "execution_count": 15,
   "metadata": {},
   "outputs": [],
   "source": [
    "def data_split(df):\n",
    "    holdBackFraction = .3\n",
    "    train_data_df, test_data_df = lucem_illud.trainTestSplit(df, holdBackFraction=holdBackFraction)\n",
    "    TFVectorizer = sklearn.feature_extraction.text.TfidfVectorizer(max_df=100, min_df=2, stop_words='english', norm='l2')\n",
    "    TFVects = TFVectorizer.fit_transform([' '.join(l) for l in train_data_df['normalized_text']])\n",
    "\n",
    "    train_data_df['vect'] = [np.array(v).flatten() for v in TFVects.todense()]\n",
    "\n",
    "    TFVects_test = TFVectorizer.transform([' '.join(l) for l in test_data_df['normalized_text']])\n",
    "    test_data_df['vect'] = [np.array(v).flatten() for v in TFVects_test.todense()]\n",
    "    return (train_data_df, test_data_df, TFVectorizer)"
   ]
  },
  {
   "cell_type": "code",
   "execution_count": 2,
   "metadata": {},
   "outputs": [],
   "source": [
    "#create a helper function to fit all models and show results together\n",
    "def fit_helper(train_test_df):\n",
    "    pred_ls = []\n",
    "    train = train_test_df[0]\n",
    "    test = train_test_df[1]\n",
    "    for model in models:\n",
    "        model.fit(np.stack(train['vect'], axis=0), train['category'])\n",
    "        pred_ls.append(model.score(np.stack(test['vect'], axis=0), test['category']))\n",
    "    return pred_ls"
   ]
  },
  {
   "cell_type": "code",
   "execution_count": 16,
   "metadata": {},
   "outputs": [],
   "source": [
    "def get_prediction(df):\n",
    "    train_test_split = data_split(data_prep(df))\n",
    "    ls = fit_helper(train_test_split)\n",
    "    return ls"
   ]
  },
  {
   "cell_type": "code",
   "execution_count": 17,
   "metadata": {},
   "outputs": [
    {
     "output_type": "stream",
     "name": "stderr",
     "text": [
      "/opt/anaconda3/lib/python3.7/site-packages/sklearn/neural_network/multilayer_perceptron.py:566: ConvergenceWarning: Stochastic Optimizer: Maximum iterations (200) reached and the optimization hasn't converged yet.\n",
      "  % self.max_iter, ConvergenceWarning)\n",
      "/opt/anaconda3/lib/python3.7/site-packages/sklearn/neural_network/multilayer_perceptron.py:566: ConvergenceWarning: Stochastic Optimizer: Maximum iterations (200) reached and the optimization hasn't converged yet.\n",
      "  % self.max_iter, ConvergenceWarning)\n"
     ]
    }
   ],
   "source": [
    "df0_pd = get_prediction(df0)\n",
    "df1_pd = get_prediction(df1)\n",
    "df2_pd = get_prediction(df2)\n",
    "df3_pd = get_prediction(df3)\n",
    "df4_pd = get_prediction(df4)\n",
    "df5_pd = get_prediction(df5)"
   ]
  },
  {
   "cell_type": "code",
   "execution_count": 18,
   "metadata": {},
   "outputs": [],
   "source": [
    "df_pd = [df2_pd,\n",
    "        df5_pd,\n",
    "        df0_pd,\n",
    "        df1_pd,\n",
    "        df3_pd,\n",
    "        df4_pd]"
   ]
  },
  {
   "cell_type": "code",
   "execution_count": 19,
   "metadata": {},
   "outputs": [],
   "source": [
    "df_table = pandas.DataFrame(data=df_pd, \n",
    "                    index = ['Google',\n",
    "                            'Microsoft',\n",
    "                            'Amazon',\n",
    "                            'Netflix',\n",
    "                            'Apple',\n",
    "                            'Facebook'],\n",
    "                    columns = ['Naive Bayes',\n",
    "                            'SVM',\n",
    "                            'KNN',\n",
    "                            'Logit',\n",
    "                            'Random Forest',\n",
    "                            'Neural Network',\n",
    "                            'Gradient Boosting',\n",
    "                            'Ada Boosting']).reset_index()"
   ]
  },
  {
   "cell_type": "code",
   "execution_count": 20,
   "metadata": {},
   "outputs": [
    {
     "output_type": "execute_result",
     "data": {
      "text/plain": [
       "       index  Naive Bayes       SVM       KNN     Logit  Random Forest  \\\n",
       "0     Google     0.543860  0.588972  0.541353  0.596491       0.526316   \n",
       "1  Microsoft     0.640000  0.640000  0.505000  0.646667       0.608333   \n",
       "2     Amazon     0.606667  0.631667  0.478333  0.643333       0.621667   \n",
       "3    Netflix     0.733333  0.583333  0.583333  0.550000       0.516667   \n",
       "4      Apple     0.563333  0.565000  0.503333  0.586667       0.558333   \n",
       "5   Facebook     0.616883  0.603896  0.584416  0.597403       0.590909   \n",
       "\n",
       "   Neural Network  Gradient Boosting  Ada Boosting  \n",
       "0        0.536341           0.551378      0.556391  \n",
       "1        0.631667           0.586667      0.595000  \n",
       "2        0.620000           0.603333      0.591667  \n",
       "3        0.583333           0.500000      0.533333  \n",
       "4        0.535000           0.576667      0.598333  \n",
       "5        0.525974           0.584416      0.616883  "
      ],
      "text/html": "<div>\n<style scoped>\n    .dataframe tbody tr th:only-of-type {\n        vertical-align: middle;\n    }\n\n    .dataframe tbody tr th {\n        vertical-align: top;\n    }\n\n    .dataframe thead th {\n        text-align: right;\n    }\n</style>\n<table border=\"1\" class=\"dataframe\">\n  <thead>\n    <tr style=\"text-align: right;\">\n      <th></th>\n      <th>index</th>\n      <th>Naive Bayes</th>\n      <th>SVM</th>\n      <th>KNN</th>\n      <th>Logit</th>\n      <th>Random Forest</th>\n      <th>Neural Network</th>\n      <th>Gradient Boosting</th>\n      <th>Ada Boosting</th>\n    </tr>\n  </thead>\n  <tbody>\n    <tr>\n      <td>0</td>\n      <td>Google</td>\n      <td>0.543860</td>\n      <td>0.588972</td>\n      <td>0.541353</td>\n      <td>0.596491</td>\n      <td>0.526316</td>\n      <td>0.536341</td>\n      <td>0.551378</td>\n      <td>0.556391</td>\n    </tr>\n    <tr>\n      <td>1</td>\n      <td>Microsoft</td>\n      <td>0.640000</td>\n      <td>0.640000</td>\n      <td>0.505000</td>\n      <td>0.646667</td>\n      <td>0.608333</td>\n      <td>0.631667</td>\n      <td>0.586667</td>\n      <td>0.595000</td>\n    </tr>\n    <tr>\n      <td>2</td>\n      <td>Amazon</td>\n      <td>0.606667</td>\n      <td>0.631667</td>\n      <td>0.478333</td>\n      <td>0.643333</td>\n      <td>0.621667</td>\n      <td>0.620000</td>\n      <td>0.603333</td>\n      <td>0.591667</td>\n    </tr>\n    <tr>\n      <td>3</td>\n      <td>Netflix</td>\n      <td>0.733333</td>\n      <td>0.583333</td>\n      <td>0.583333</td>\n      <td>0.550000</td>\n      <td>0.516667</td>\n      <td>0.583333</td>\n      <td>0.500000</td>\n      <td>0.533333</td>\n    </tr>\n    <tr>\n      <td>4</td>\n      <td>Apple</td>\n      <td>0.563333</td>\n      <td>0.565000</td>\n      <td>0.503333</td>\n      <td>0.586667</td>\n      <td>0.558333</td>\n      <td>0.535000</td>\n      <td>0.576667</td>\n      <td>0.598333</td>\n    </tr>\n    <tr>\n      <td>5</td>\n      <td>Facebook</td>\n      <td>0.616883</td>\n      <td>0.603896</td>\n      <td>0.584416</td>\n      <td>0.597403</td>\n      <td>0.590909</td>\n      <td>0.525974</td>\n      <td>0.584416</td>\n      <td>0.616883</td>\n    </tr>\n  </tbody>\n</table>\n</div>"
     },
     "metadata": {},
     "execution_count": 20
    }
   ],
   "source": [
    "df_table"
   ]
  },
  {
   "cell_type": "code",
   "execution_count": 21,
   "metadata": {},
   "outputs": [],
   "source": [
    "df_table.to_csv('Prediction_table.csv')"
   ]
  },
  {
   "source": [
    "Plot"
   ],
   "cell_type": "markdown",
   "metadata": {}
  },
  {
   "cell_type": "code",
   "execution_count": 39,
   "metadata": {},
   "outputs": [
    {
     "output_type": "display_data",
     "data": {
      "text/plain": "<Figure size 864x432 with 1 Axes>",
      "image/svg+xml": "<?xml version=\"1.0\" encoding=\"utf-8\" standalone=\"no\"?>\n<!DOCTYPE svg PUBLIC \"-//W3C//DTD SVG 1.1//EN\"\n  \"http://www.w3.org/Graphics/SVG/1.1/DTD/svg11.dtd\">\n<!-- Created with matplotlib (https://matplotlib.org/) -->\n<svg height=\"372.741863pt\" version=\"1.1\" viewBox=\"0 0 796.30718 372.741863\" width=\"796.30718pt\" xmlns=\"http://www.w3.org/2000/svg\" xmlns:xlink=\"http://www.w3.org/1999/xlink\">\n <defs>\n  <style type=\"text/css\">\n*{stroke-linecap:butt;stroke-linejoin:round;}\n  </style>\n </defs>\n <g id=\"figure_1\">\n  <g id=\"patch_1\">\n   <path d=\"M 0 372.741863 \nL 796.30718 372.741863 \nL 796.30718 0 \nL 0 0 \nz\n\" style=\"fill:#f0fcfa;\"/>\n  </g>\n  <g id=\"axes_1\">\n   <g id=\"patch_2\">\n    <path d=\"M 35.192188 351.395925 \nL 786.872187 351.395925 \nL 786.872187 25.235925 \nL 35.192188 25.235925 \nz\n\" style=\"fill:#f0f0f0;\"/>\n   </g>\n   <g id=\"matplotlib.axis_1\">\n    <g id=\"xtick_1\">\n     <g id=\"line2d_1\">\n      <path clip-path=\"url(#p07cb4a1c83)\" d=\"M 69.35946 351.395925 \nL 69.35946 25.235925 \n\" style=\"fill:none;stroke:#cbcbcb;\"/>\n     </g>\n     <g id=\"line2d_2\"/>\n     <g id=\"text_1\">\n      <!-- Naive Bayes -->\n      <defs>\n       <path d=\"M 9.8125 72.90625 \nL 23.09375 72.90625 \nL 55.421875 11.921875 \nL 55.421875 72.90625 \nL 64.984375 72.90625 \nL 64.984375 0 \nL 51.703125 0 \nL 19.390625 60.984375 \nL 19.390625 0 \nL 9.8125 0 \nz\n\" id=\"DejaVuSans-78\"/>\n       <path d=\"M 34.28125 27.484375 \nQ 23.390625 27.484375 19.1875 25 \nQ 14.984375 22.515625 14.984375 16.5 \nQ 14.984375 11.71875 18.140625 8.90625 \nQ 21.296875 6.109375 26.703125 6.109375 \nQ 34.1875 6.109375 38.703125 11.40625 \nQ 43.21875 16.703125 43.21875 25.484375 \nL 43.21875 27.484375 \nz\nM 52.203125 31.203125 \nL 52.203125 0 \nL 43.21875 0 \nL 43.21875 8.296875 \nQ 40.140625 3.328125 35.546875 0.953125 \nQ 30.953125 -1.421875 24.3125 -1.421875 \nQ 15.921875 -1.421875 10.953125 3.296875 \nQ 6 8.015625 6 15.921875 \nQ 6 25.140625 12.171875 29.828125 \nQ 18.359375 34.515625 30.609375 34.515625 \nL 43.21875 34.515625 \nL 43.21875 35.40625 \nQ 43.21875 41.609375 39.140625 45 \nQ 35.0625 48.390625 27.6875 48.390625 \nQ 23 48.390625 18.546875 47.265625 \nQ 14.109375 46.140625 10.015625 43.890625 \nL 10.015625 52.203125 \nQ 14.9375 54.109375 19.578125 55.046875 \nQ 24.21875 56 28.609375 56 \nQ 40.484375 56 46.34375 49.84375 \nQ 52.203125 43.703125 52.203125 31.203125 \nz\n\" id=\"DejaVuSans-97\"/>\n       <path d=\"M 9.421875 54.6875 \nL 18.40625 54.6875 \nL 18.40625 0 \nL 9.421875 0 \nz\nM 9.421875 75.984375 \nL 18.40625 75.984375 \nL 18.40625 64.59375 \nL 9.421875 64.59375 \nz\n\" id=\"DejaVuSans-105\"/>\n       <path d=\"M 2.984375 54.6875 \nL 12.5 54.6875 \nL 29.59375 8.796875 \nL 46.6875 54.6875 \nL 56.203125 54.6875 \nL 35.6875 0 \nL 23.484375 0 \nz\n\" id=\"DejaVuSans-118\"/>\n       <path d=\"M 56.203125 29.59375 \nL 56.203125 25.203125 \nL 14.890625 25.203125 \nQ 15.484375 15.921875 20.484375 11.0625 \nQ 25.484375 6.203125 34.421875 6.203125 \nQ 39.59375 6.203125 44.453125 7.46875 \nQ 49.3125 8.734375 54.109375 11.28125 \nL 54.109375 2.78125 \nQ 49.265625 0.734375 44.1875 -0.34375 \nQ 39.109375 -1.421875 33.890625 -1.421875 \nQ 20.796875 -1.421875 13.15625 6.1875 \nQ 5.515625 13.8125 5.515625 26.8125 \nQ 5.515625 40.234375 12.765625 48.109375 \nQ 20.015625 56 32.328125 56 \nQ 43.359375 56 49.78125 48.890625 \nQ 56.203125 41.796875 56.203125 29.59375 \nz\nM 47.21875 32.234375 \nQ 47.125 39.59375 43.09375 43.984375 \nQ 39.0625 48.390625 32.421875 48.390625 \nQ 24.90625 48.390625 20.390625 44.140625 \nQ 15.875 39.890625 15.1875 32.171875 \nz\n\" id=\"DejaVuSans-101\"/>\n       <path id=\"DejaVuSans-32\"/>\n       <path d=\"M 19.671875 34.8125 \nL 19.671875 8.109375 \nL 35.5 8.109375 \nQ 43.453125 8.109375 47.28125 11.40625 \nQ 51.125 14.703125 51.125 21.484375 \nQ 51.125 28.328125 47.28125 31.5625 \nQ 43.453125 34.8125 35.5 34.8125 \nz\nM 19.671875 64.796875 \nL 19.671875 42.828125 \nL 34.28125 42.828125 \nQ 41.5 42.828125 45.03125 45.53125 \nQ 48.578125 48.25 48.578125 53.8125 \nQ 48.578125 59.328125 45.03125 62.0625 \nQ 41.5 64.796875 34.28125 64.796875 \nz\nM 9.8125 72.90625 \nL 35.015625 72.90625 \nQ 46.296875 72.90625 52.390625 68.21875 \nQ 58.5 63.53125 58.5 54.890625 \nQ 58.5 48.1875 55.375 44.234375 \nQ 52.25 40.28125 46.1875 39.3125 \nQ 53.46875 37.75 57.5 32.78125 \nQ 61.53125 27.828125 61.53125 20.40625 \nQ 61.53125 10.640625 54.890625 5.3125 \nQ 48.25 0 35.984375 0 \nL 9.8125 0 \nz\n\" id=\"DejaVuSans-66\"/>\n       <path d=\"M 32.171875 -5.078125 \nQ 28.375 -14.84375 24.75 -17.8125 \nQ 21.140625 -20.796875 15.09375 -20.796875 \nL 7.90625 -20.796875 \nL 7.90625 -13.28125 \nL 13.1875 -13.28125 \nQ 16.890625 -13.28125 18.9375 -11.515625 \nQ 21 -9.765625 23.484375 -3.21875 \nL 25.09375 0.875 \nL 2.984375 54.6875 \nL 12.5 54.6875 \nL 29.59375 11.921875 \nL 46.6875 54.6875 \nL 56.203125 54.6875 \nz\n\" id=\"DejaVuSans-121\"/>\n       <path d=\"M 44.28125 53.078125 \nL 44.28125 44.578125 \nQ 40.484375 46.53125 36.375 47.5 \nQ 32.28125 48.484375 27.875 48.484375 \nQ 21.1875 48.484375 17.84375 46.4375 \nQ 14.5 44.390625 14.5 40.28125 \nQ 14.5 37.15625 16.890625 35.375 \nQ 19.28125 33.59375 26.515625 31.984375 \nL 29.59375 31.296875 \nQ 39.15625 29.25 43.1875 25.515625 \nQ 47.21875 21.78125 47.21875 15.09375 \nQ 47.21875 7.46875 41.1875 3.015625 \nQ 35.15625 -1.421875 24.609375 -1.421875 \nQ 20.21875 -1.421875 15.453125 -0.5625 \nQ 10.6875 0.296875 5.421875 2 \nL 5.421875 11.28125 \nQ 10.40625 8.6875 15.234375 7.390625 \nQ 20.0625 6.109375 24.8125 6.109375 \nQ 31.15625 6.109375 34.5625 8.28125 \nQ 37.984375 10.453125 37.984375 14.40625 \nQ 37.984375 18.0625 35.515625 20.015625 \nQ 33.0625 21.96875 24.703125 23.78125 \nL 21.578125 24.515625 \nQ 13.234375 26.265625 9.515625 29.90625 \nQ 5.8125 33.546875 5.8125 39.890625 \nQ 5.8125 47.609375 11.28125 51.796875 \nQ 16.75 56 26.8125 56 \nQ 31.78125 56 36.171875 55.265625 \nQ 40.578125 54.546875 44.28125 53.078125 \nz\n\" id=\"DejaVuSans-115\"/>\n      </defs>\n      <g transform=\"translate(35.310163 363.254206)scale(0.11 -0.11)\">\n       <use xlink:href=\"#DejaVuSans-78\"/>\n       <use x=\"74.804688\" xlink:href=\"#DejaVuSans-97\"/>\n       <use x=\"136.083984\" xlink:href=\"#DejaVuSans-105\"/>\n       <use x=\"163.867188\" xlink:href=\"#DejaVuSans-118\"/>\n       <use x=\"223.046875\" xlink:href=\"#DejaVuSans-101\"/>\n       <use x=\"284.570312\" xlink:href=\"#DejaVuSans-32\"/>\n       <use x=\"316.357422\" xlink:href=\"#DejaVuSans-66\"/>\n       <use x=\"384.960938\" xlink:href=\"#DejaVuSans-97\"/>\n       <use x=\"446.240234\" xlink:href=\"#DejaVuSans-121\"/>\n       <use x=\"505.419922\" xlink:href=\"#DejaVuSans-101\"/>\n       <use x=\"566.943359\" xlink:href=\"#DejaVuSans-115\"/>\n      </g>\n     </g>\n    </g>\n    <g id=\"xtick_2\">\n     <g id=\"line2d_3\">\n      <path clip-path=\"url(#p07cb4a1c83)\" d=\"M 166.980239 351.395925 \nL 166.980239 25.235925 \n\" style=\"fill:none;stroke:#cbcbcb;\"/>\n     </g>\n     <g id=\"line2d_4\"/>\n     <g id=\"text_2\">\n      <!-- SVM -->\n      <defs>\n       <path d=\"M 53.515625 70.515625 \nL 53.515625 60.890625 \nQ 47.90625 63.578125 42.921875 64.890625 \nQ 37.9375 66.21875 33.296875 66.21875 \nQ 25.25 66.21875 20.875 63.09375 \nQ 16.5 59.96875 16.5 54.203125 \nQ 16.5 49.359375 19.40625 46.890625 \nQ 22.3125 44.4375 30.421875 42.921875 \nL 36.375 41.703125 \nQ 47.40625 39.59375 52.65625 34.296875 \nQ 57.90625 29 57.90625 20.125 \nQ 57.90625 9.515625 50.796875 4.046875 \nQ 43.703125 -1.421875 29.984375 -1.421875 \nQ 24.8125 -1.421875 18.96875 -0.25 \nQ 13.140625 0.921875 6.890625 3.21875 \nL 6.890625 13.375 \nQ 12.890625 10.015625 18.65625 8.296875 \nQ 24.421875 6.59375 29.984375 6.59375 \nQ 38.421875 6.59375 43.015625 9.90625 \nQ 47.609375 13.234375 47.609375 19.390625 \nQ 47.609375 24.75 44.3125 27.78125 \nQ 41.015625 30.8125 33.5 32.328125 \nL 27.484375 33.5 \nQ 16.453125 35.6875 11.515625 40.375 \nQ 6.59375 45.0625 6.59375 53.421875 \nQ 6.59375 63.09375 13.40625 68.65625 \nQ 20.21875 74.21875 32.171875 74.21875 \nQ 37.3125 74.21875 42.625 73.28125 \nQ 47.953125 72.359375 53.515625 70.515625 \nz\n\" id=\"DejaVuSans-83\"/>\n       <path d=\"M 28.609375 0 \nL 0.78125 72.90625 \nL 11.078125 72.90625 \nL 34.1875 11.53125 \nL 57.328125 72.90625 \nL 67.578125 72.90625 \nL 39.796875 0 \nz\n\" id=\"DejaVuSans-86\"/>\n       <path d=\"M 9.8125 72.90625 \nL 24.515625 72.90625 \nL 43.109375 23.296875 \nL 61.8125 72.90625 \nL 76.515625 72.90625 \nL 76.515625 0 \nL 66.890625 0 \nL 66.890625 64.015625 \nL 48.09375 14.015625 \nL 38.1875 14.015625 \nL 19.390625 64.015625 \nL 19.390625 0 \nL 9.8125 0 \nz\n\" id=\"DejaVuSans-77\"/>\n      </defs>\n      <g transform=\"translate(154.980786 363.254206)scale(0.11 -0.11)\">\n       <use xlink:href=\"#DejaVuSans-83\"/>\n       <use x=\"63.476562\" xlink:href=\"#DejaVuSans-86\"/>\n       <use x=\"131.884766\" xlink:href=\"#DejaVuSans-77\"/>\n      </g>\n     </g>\n    </g>\n    <g id=\"xtick_3\">\n     <g id=\"line2d_5\">\n      <path clip-path=\"url(#p07cb4a1c83)\" d=\"M 264.601019 351.395925 \nL 264.601019 25.235925 \n\" style=\"fill:none;stroke:#cbcbcb;\"/>\n     </g>\n     <g id=\"line2d_6\"/>\n     <g id=\"text_3\">\n      <!-- KNN -->\n      <defs>\n       <path d=\"M 9.8125 72.90625 \nL 19.671875 72.90625 \nL 19.671875 42.09375 \nL 52.390625 72.90625 \nL 65.09375 72.90625 \nL 28.90625 38.921875 \nL 67.671875 0 \nL 54.6875 0 \nL 19.671875 35.109375 \nL 19.671875 0 \nL 9.8125 0 \nz\n\" id=\"DejaVuSans-75\"/>\n      </defs>\n      <g transform=\"translate(252.764847 363.254206)scale(0.11 -0.11)\">\n       <use xlink:href=\"#DejaVuSans-75\"/>\n       <use x=\"65.576172\" xlink:href=\"#DejaVuSans-78\"/>\n       <use x=\"140.380859\" xlink:href=\"#DejaVuSans-78\"/>\n      </g>\n     </g>\n    </g>\n    <g id=\"xtick_4\">\n     <g id=\"line2d_7\">\n      <path clip-path=\"url(#p07cb4a1c83)\" d=\"M 362.221798 351.395925 \nL 362.221798 25.235925 \n\" style=\"fill:none;stroke:#cbcbcb;\"/>\n     </g>\n     <g id=\"line2d_8\"/>\n     <g id=\"text_4\">\n      <!-- Logit -->\n      <defs>\n       <path d=\"M 9.8125 72.90625 \nL 19.671875 72.90625 \nL 19.671875 8.296875 \nL 55.171875 8.296875 \nL 55.171875 0 \nL 9.8125 0 \nz\n\" id=\"DejaVuSans-76\"/>\n       <path d=\"M 30.609375 48.390625 \nQ 23.390625 48.390625 19.1875 42.75 \nQ 14.984375 37.109375 14.984375 27.296875 \nQ 14.984375 17.484375 19.15625 11.84375 \nQ 23.34375 6.203125 30.609375 6.203125 \nQ 37.796875 6.203125 41.984375 11.859375 \nQ 46.1875 17.53125 46.1875 27.296875 \nQ 46.1875 37.015625 41.984375 42.703125 \nQ 37.796875 48.390625 30.609375 48.390625 \nz\nM 30.609375 56 \nQ 42.328125 56 49.015625 48.375 \nQ 55.71875 40.765625 55.71875 27.296875 \nQ 55.71875 13.875 49.015625 6.21875 \nQ 42.328125 -1.421875 30.609375 -1.421875 \nQ 18.84375 -1.421875 12.171875 6.21875 \nQ 5.515625 13.875 5.515625 27.296875 \nQ 5.515625 40.765625 12.171875 48.375 \nQ 18.84375 56 30.609375 56 \nz\n\" id=\"DejaVuSans-111\"/>\n       <path d=\"M 45.40625 27.984375 \nQ 45.40625 37.75 41.375 43.109375 \nQ 37.359375 48.484375 30.078125 48.484375 \nQ 22.859375 48.484375 18.828125 43.109375 \nQ 14.796875 37.75 14.796875 27.984375 \nQ 14.796875 18.265625 18.828125 12.890625 \nQ 22.859375 7.515625 30.078125 7.515625 \nQ 37.359375 7.515625 41.375 12.890625 \nQ 45.40625 18.265625 45.40625 27.984375 \nz\nM 54.390625 6.78125 \nQ 54.390625 -7.171875 48.1875 -13.984375 \nQ 42 -20.796875 29.203125 -20.796875 \nQ 24.46875 -20.796875 20.265625 -20.09375 \nQ 16.0625 -19.390625 12.109375 -17.921875 \nL 12.109375 -9.1875 \nQ 16.0625 -11.328125 19.921875 -12.34375 \nQ 23.78125 -13.375 27.78125 -13.375 \nQ 36.625 -13.375 41.015625 -8.765625 \nQ 45.40625 -4.15625 45.40625 5.171875 \nL 45.40625 9.625 \nQ 42.625 4.78125 38.28125 2.390625 \nQ 33.9375 0 27.875 0 \nQ 17.828125 0 11.671875 7.65625 \nQ 5.515625 15.328125 5.515625 27.984375 \nQ 5.515625 40.671875 11.671875 48.328125 \nQ 17.828125 56 27.875 56 \nQ 33.9375 56 38.28125 53.609375 \nQ 42.625 51.21875 45.40625 46.390625 \nL 45.40625 54.6875 \nL 54.390625 54.6875 \nz\n\" id=\"DejaVuSans-103\"/>\n       <path d=\"M 18.3125 70.21875 \nL 18.3125 54.6875 \nL 36.8125 54.6875 \nL 36.8125 47.703125 \nL 18.3125 47.703125 \nL 18.3125 18.015625 \nQ 18.3125 11.328125 20.140625 9.421875 \nQ 21.96875 7.515625 27.59375 7.515625 \nL 36.8125 7.515625 \nL 36.8125 0 \nL 27.59375 0 \nQ 17.1875 0 13.234375 3.875 \nQ 9.28125 7.765625 9.28125 18.015625 \nL 9.28125 47.703125 \nL 2.6875 47.703125 \nL 2.6875 54.6875 \nL 9.28125 54.6875 \nL 9.28125 70.21875 \nz\n\" id=\"DejaVuSans-116\"/>\n      </defs>\n      <g transform=\"translate(348.617032 363.254206)scale(0.11 -0.11)\">\n       <use xlink:href=\"#DejaVuSans-76\"/>\n       <use x=\"55.697266\" xlink:href=\"#DejaVuSans-111\"/>\n       <use x=\"116.878906\" xlink:href=\"#DejaVuSans-103\"/>\n       <use x=\"180.355469\" xlink:href=\"#DejaVuSans-105\"/>\n       <use x=\"208.138672\" xlink:href=\"#DejaVuSans-116\"/>\n      </g>\n     </g>\n    </g>\n    <g id=\"xtick_5\">\n     <g id=\"line2d_9\">\n      <path clip-path=\"url(#p07cb4a1c83)\" d=\"M 459.842577 351.395925 \nL 459.842577 25.235925 \n\" style=\"fill:none;stroke:#cbcbcb;\"/>\n     </g>\n     <g id=\"line2d_10\"/>\n     <g id=\"text_5\">\n      <!-- Random Forest -->\n      <defs>\n       <path d=\"M 44.390625 34.1875 \nQ 47.5625 33.109375 50.5625 29.59375 \nQ 53.5625 26.078125 56.59375 19.921875 \nL 66.609375 0 \nL 56 0 \nL 46.6875 18.703125 \nQ 43.0625 26.03125 39.671875 28.421875 \nQ 36.28125 30.8125 30.421875 30.8125 \nL 19.671875 30.8125 \nL 19.671875 0 \nL 9.8125 0 \nL 9.8125 72.90625 \nL 32.078125 72.90625 \nQ 44.578125 72.90625 50.734375 67.671875 \nQ 56.890625 62.453125 56.890625 51.90625 \nQ 56.890625 45.015625 53.6875 40.46875 \nQ 50.484375 35.9375 44.390625 34.1875 \nz\nM 19.671875 64.796875 \nL 19.671875 38.921875 \nL 32.078125 38.921875 \nQ 39.203125 38.921875 42.84375 42.21875 \nQ 46.484375 45.515625 46.484375 51.90625 \nQ 46.484375 58.296875 42.84375 61.546875 \nQ 39.203125 64.796875 32.078125 64.796875 \nz\n\" id=\"DejaVuSans-82\"/>\n       <path d=\"M 54.890625 33.015625 \nL 54.890625 0 \nL 45.90625 0 \nL 45.90625 32.71875 \nQ 45.90625 40.484375 42.875 44.328125 \nQ 39.84375 48.1875 33.796875 48.1875 \nQ 26.515625 48.1875 22.3125 43.546875 \nQ 18.109375 38.921875 18.109375 30.90625 \nL 18.109375 0 \nL 9.078125 0 \nL 9.078125 54.6875 \nL 18.109375 54.6875 \nL 18.109375 46.1875 \nQ 21.34375 51.125 25.703125 53.5625 \nQ 30.078125 56 35.796875 56 \nQ 45.21875 56 50.046875 50.171875 \nQ 54.890625 44.34375 54.890625 33.015625 \nz\n\" id=\"DejaVuSans-110\"/>\n       <path d=\"M 45.40625 46.390625 \nL 45.40625 75.984375 \nL 54.390625 75.984375 \nL 54.390625 0 \nL 45.40625 0 \nL 45.40625 8.203125 \nQ 42.578125 3.328125 38.25 0.953125 \nQ 33.9375 -1.421875 27.875 -1.421875 \nQ 17.96875 -1.421875 11.734375 6.484375 \nQ 5.515625 14.40625 5.515625 27.296875 \nQ 5.515625 40.1875 11.734375 48.09375 \nQ 17.96875 56 27.875 56 \nQ 33.9375 56 38.25 53.625 \nQ 42.578125 51.265625 45.40625 46.390625 \nz\nM 14.796875 27.296875 \nQ 14.796875 17.390625 18.875 11.75 \nQ 22.953125 6.109375 30.078125 6.109375 \nQ 37.203125 6.109375 41.296875 11.75 \nQ 45.40625 17.390625 45.40625 27.296875 \nQ 45.40625 37.203125 41.296875 42.84375 \nQ 37.203125 48.484375 30.078125 48.484375 \nQ 22.953125 48.484375 18.875 42.84375 \nQ 14.796875 37.203125 14.796875 27.296875 \nz\n\" id=\"DejaVuSans-100\"/>\n       <path d=\"M 52 44.1875 \nQ 55.375 50.25 60.0625 53.125 \nQ 64.75 56 71.09375 56 \nQ 79.640625 56 84.28125 50.015625 \nQ 88.921875 44.046875 88.921875 33.015625 \nL 88.921875 0 \nL 79.890625 0 \nL 79.890625 32.71875 \nQ 79.890625 40.578125 77.09375 44.375 \nQ 74.3125 48.1875 68.609375 48.1875 \nQ 61.625 48.1875 57.5625 43.546875 \nQ 53.515625 38.921875 53.515625 30.90625 \nL 53.515625 0 \nL 44.484375 0 \nL 44.484375 32.71875 \nQ 44.484375 40.625 41.703125 44.40625 \nQ 38.921875 48.1875 33.109375 48.1875 \nQ 26.21875 48.1875 22.15625 43.53125 \nQ 18.109375 38.875 18.109375 30.90625 \nL 18.109375 0 \nL 9.078125 0 \nL 9.078125 54.6875 \nL 18.109375 54.6875 \nL 18.109375 46.1875 \nQ 21.1875 51.21875 25.484375 53.609375 \nQ 29.78125 56 35.6875 56 \nQ 41.65625 56 45.828125 52.96875 \nQ 50 49.953125 52 44.1875 \nz\n\" id=\"DejaVuSans-109\"/>\n       <path d=\"M 9.8125 72.90625 \nL 51.703125 72.90625 \nL 51.703125 64.59375 \nL 19.671875 64.59375 \nL 19.671875 43.109375 \nL 48.578125 43.109375 \nL 48.578125 34.8125 \nL 19.671875 34.8125 \nL 19.671875 0 \nL 9.8125 0 \nz\n\" id=\"DejaVuSans-70\"/>\n       <path d=\"M 41.109375 46.296875 \nQ 39.59375 47.171875 37.8125 47.578125 \nQ 36.03125 48 33.890625 48 \nQ 26.265625 48 22.1875 43.046875 \nQ 18.109375 38.09375 18.109375 28.8125 \nL 18.109375 0 \nL 9.078125 0 \nL 9.078125 54.6875 \nL 18.109375 54.6875 \nL 18.109375 46.1875 \nQ 20.953125 51.171875 25.484375 53.578125 \nQ 30.03125 56 36.53125 56 \nQ 37.453125 56 38.578125 55.875 \nQ 39.703125 55.765625 41.0625 55.515625 \nz\n\" id=\"DejaVuSans-114\"/>\n      </defs>\n      <g transform=\"translate(418.013358 363.254206)scale(0.11 -0.11)\">\n       <use xlink:href=\"#DejaVuSans-82\"/>\n       <use x=\"69.451172\" xlink:href=\"#DejaVuSans-97\"/>\n       <use x=\"130.730469\" xlink:href=\"#DejaVuSans-110\"/>\n       <use x=\"194.109375\" xlink:href=\"#DejaVuSans-100\"/>\n       <use x=\"257.585938\" xlink:href=\"#DejaVuSans-111\"/>\n       <use x=\"318.767578\" xlink:href=\"#DejaVuSans-109\"/>\n       <use x=\"416.179688\" xlink:href=\"#DejaVuSans-32\"/>\n       <use x=\"447.966797\" xlink:href=\"#DejaVuSans-70\"/>\n       <use x=\"505.439453\" xlink:href=\"#DejaVuSans-111\"/>\n       <use x=\"566.621094\" xlink:href=\"#DejaVuSans-114\"/>\n       <use x=\"607.703125\" xlink:href=\"#DejaVuSans-101\"/>\n       <use x=\"669.226562\" xlink:href=\"#DejaVuSans-115\"/>\n       <use x=\"721.326172\" xlink:href=\"#DejaVuSans-116\"/>\n      </g>\n     </g>\n    </g>\n    <g id=\"xtick_6\">\n     <g id=\"line2d_11\">\n      <path clip-path=\"url(#p07cb4a1c83)\" d=\"M 557.463356 351.395925 \nL 557.463356 25.235925 \n\" style=\"fill:none;stroke:#cbcbcb;\"/>\n     </g>\n     <g id=\"line2d_12\"/>\n     <g id=\"text_6\">\n      <!-- Neural Network -->\n      <defs>\n       <path d=\"M 8.5 21.578125 \nL 8.5 54.6875 \nL 17.484375 54.6875 \nL 17.484375 21.921875 \nQ 17.484375 14.15625 20.5 10.265625 \nQ 23.53125 6.390625 29.59375 6.390625 \nQ 36.859375 6.390625 41.078125 11.03125 \nQ 45.3125 15.671875 45.3125 23.6875 \nL 45.3125 54.6875 \nL 54.296875 54.6875 \nL 54.296875 0 \nL 45.3125 0 \nL 45.3125 8.40625 \nQ 42.046875 3.421875 37.71875 1 \nQ 33.40625 -1.421875 27.6875 -1.421875 \nQ 18.265625 -1.421875 13.375 4.4375 \nQ 8.5 10.296875 8.5 21.578125 \nz\nM 31.109375 56 \nz\n\" id=\"DejaVuSans-117\"/>\n       <path d=\"M 9.421875 75.984375 \nL 18.40625 75.984375 \nL 18.40625 0 \nL 9.421875 0 \nz\n\" id=\"DejaVuSans-108\"/>\n       <path d=\"M 4.203125 54.6875 \nL 13.1875 54.6875 \nL 24.421875 12.015625 \nL 35.59375 54.6875 \nL 46.1875 54.6875 \nL 57.421875 12.015625 \nL 68.609375 54.6875 \nL 77.59375 54.6875 \nL 63.28125 0 \nL 52.6875 0 \nL 40.921875 44.828125 \nL 29.109375 0 \nL 18.5 0 \nz\n\" id=\"DejaVuSans-119\"/>\n       <path d=\"M 9.078125 75.984375 \nL 18.109375 75.984375 \nL 18.109375 31.109375 \nL 44.921875 54.6875 \nL 56.390625 54.6875 \nL 27.390625 29.109375 \nL 57.625 0 \nL 45.90625 0 \nL 18.109375 26.703125 \nL 18.109375 0 \nL 9.078125 0 \nz\n\" id=\"DejaVuSans-107\"/>\n      </defs>\n      <g transform=\"translate(514.607184 363.254206)scale(0.11 -0.11)\">\n       <use xlink:href=\"#DejaVuSans-78\"/>\n       <use x=\"74.804688\" xlink:href=\"#DejaVuSans-101\"/>\n       <use x=\"136.328125\" xlink:href=\"#DejaVuSans-117\"/>\n       <use x=\"199.707031\" xlink:href=\"#DejaVuSans-114\"/>\n       <use x=\"240.820312\" xlink:href=\"#DejaVuSans-97\"/>\n       <use x=\"302.099609\" xlink:href=\"#DejaVuSans-108\"/>\n       <use x=\"329.882812\" xlink:href=\"#DejaVuSans-32\"/>\n       <use x=\"361.669922\" xlink:href=\"#DejaVuSans-78\"/>\n       <use x=\"436.474609\" xlink:href=\"#DejaVuSans-101\"/>\n       <use x=\"497.998047\" xlink:href=\"#DejaVuSans-116\"/>\n       <use x=\"537.207031\" xlink:href=\"#DejaVuSans-119\"/>\n       <use x=\"618.994141\" xlink:href=\"#DejaVuSans-111\"/>\n       <use x=\"680.175781\" xlink:href=\"#DejaVuSans-114\"/>\n       <use x=\"721.289062\" xlink:href=\"#DejaVuSans-107\"/>\n      </g>\n     </g>\n    </g>\n    <g id=\"xtick_7\">\n     <g id=\"line2d_13\">\n      <path clip-path=\"url(#p07cb4a1c83)\" d=\"M 655.084136 351.395925 \nL 655.084136 25.235925 \n\" style=\"fill:none;stroke:#cbcbcb;\"/>\n     </g>\n     <g id=\"line2d_14\"/>\n     <g id=\"text_7\">\n      <!-- Gradient Boosting -->\n      <defs>\n       <path d=\"M 59.515625 10.40625 \nL 59.515625 29.984375 \nL 43.40625 29.984375 \nL 43.40625 38.09375 \nL 69.28125 38.09375 \nL 69.28125 6.78125 \nQ 63.578125 2.734375 56.6875 0.65625 \nQ 49.8125 -1.421875 42 -1.421875 \nQ 24.90625 -1.421875 15.25 8.5625 \nQ 5.609375 18.5625 5.609375 36.375 \nQ 5.609375 54.25 15.25 64.234375 \nQ 24.90625 74.21875 42 74.21875 \nQ 49.125 74.21875 55.546875 72.453125 \nQ 61.96875 70.703125 67.390625 67.28125 \nL 67.390625 56.78125 \nQ 61.921875 61.421875 55.765625 63.765625 \nQ 49.609375 66.109375 42.828125 66.109375 \nQ 29.4375 66.109375 22.71875 58.640625 \nQ 16.015625 51.171875 16.015625 36.375 \nQ 16.015625 21.625 22.71875 14.15625 \nQ 29.4375 6.6875 42.828125 6.6875 \nQ 48.046875 6.6875 52.140625 7.59375 \nQ 56.25 8.5 59.515625 10.40625 \nz\n\" id=\"DejaVuSans-71\"/>\n      </defs>\n      <g transform=\"translate(605.366714 363.254206)scale(0.11 -0.11)\">\n       <use xlink:href=\"#DejaVuSans-71\"/>\n       <use x=\"77.490234\" xlink:href=\"#DejaVuSans-114\"/>\n       <use x=\"118.603516\" xlink:href=\"#DejaVuSans-97\"/>\n       <use x=\"179.882812\" xlink:href=\"#DejaVuSans-100\"/>\n       <use x=\"243.359375\" xlink:href=\"#DejaVuSans-105\"/>\n       <use x=\"271.142578\" xlink:href=\"#DejaVuSans-101\"/>\n       <use x=\"332.666016\" xlink:href=\"#DejaVuSans-110\"/>\n       <use x=\"396.044922\" xlink:href=\"#DejaVuSans-116\"/>\n       <use x=\"435.253906\" xlink:href=\"#DejaVuSans-32\"/>\n       <use x=\"467.041016\" xlink:href=\"#DejaVuSans-66\"/>\n       <use x=\"535.644531\" xlink:href=\"#DejaVuSans-111\"/>\n       <use x=\"596.826172\" xlink:href=\"#DejaVuSans-111\"/>\n       <use x=\"658.007812\" xlink:href=\"#DejaVuSans-115\"/>\n       <use x=\"710.107422\" xlink:href=\"#DejaVuSans-116\"/>\n       <use x=\"749.316406\" xlink:href=\"#DejaVuSans-105\"/>\n       <use x=\"777.099609\" xlink:href=\"#DejaVuSans-110\"/>\n       <use x=\"840.478516\" xlink:href=\"#DejaVuSans-103\"/>\n      </g>\n     </g>\n    </g>\n    <g id=\"xtick_8\">\n     <g id=\"line2d_15\">\n      <path clip-path=\"url(#p07cb4a1c83)\" d=\"M 752.704915 351.395925 \nL 752.704915 25.235925 \n\" style=\"fill:none;stroke:#cbcbcb;\"/>\n     </g>\n     <g id=\"line2d_16\"/>\n     <g id=\"text_8\">\n      <!-- Ada Boosting -->\n      <defs>\n       <path d=\"M 34.1875 63.1875 \nL 20.796875 26.90625 \nL 47.609375 26.90625 \nz\nM 28.609375 72.90625 \nL 39.796875 72.90625 \nL 67.578125 0 \nL 57.328125 0 \nL 50.6875 18.703125 \nL 17.828125 18.703125 \nL 11.1875 0 \nL 0.78125 0 \nz\n\" id=\"DejaVuSans-65\"/>\n      </defs>\n      <g transform=\"translate(716.302649 363.254206)scale(0.11 -0.11)\">\n       <use xlink:href=\"#DejaVuSans-65\"/>\n       <use x=\"68.392578\" xlink:href=\"#DejaVuSans-100\"/>\n       <use x=\"131.869141\" xlink:href=\"#DejaVuSans-97\"/>\n       <use x=\"193.148438\" xlink:href=\"#DejaVuSans-32\"/>\n       <use x=\"224.935547\" xlink:href=\"#DejaVuSans-66\"/>\n       <use x=\"293.539062\" xlink:href=\"#DejaVuSans-111\"/>\n       <use x=\"354.720703\" xlink:href=\"#DejaVuSans-111\"/>\n       <use x=\"415.902344\" xlink:href=\"#DejaVuSans-115\"/>\n       <use x=\"468.001953\" xlink:href=\"#DejaVuSans-116\"/>\n       <use x=\"507.210938\" xlink:href=\"#DejaVuSans-105\"/>\n       <use x=\"534.994141\" xlink:href=\"#DejaVuSans-110\"/>\n       <use x=\"598.373047\" xlink:href=\"#DejaVuSans-103\"/>\n      </g>\n     </g>\n    </g>\n   </g>\n   <g id=\"matplotlib.axis_2\">\n    <g id=\"ytick_1\">\n     <g id=\"line2d_17\">\n      <path clip-path=\"url(#p07cb4a1c83)\" d=\"M 35.192188 311.376888 \nL 786.872187 311.376888 \n\" style=\"fill:none;stroke:#cbcbcb;\"/>\n     </g>\n     <g id=\"line2d_18\"/>\n     <g id=\"text_9\">\n      <!-- 0.50 -->\n      <defs>\n       <path d=\"M 31.78125 66.40625 \nQ 24.171875 66.40625 20.328125 58.90625 \nQ 16.5 51.421875 16.5 36.375 \nQ 16.5 21.390625 20.328125 13.890625 \nQ 24.171875 6.390625 31.78125 6.390625 \nQ 39.453125 6.390625 43.28125 13.890625 \nQ 47.125 21.390625 47.125 36.375 \nQ 47.125 51.421875 43.28125 58.90625 \nQ 39.453125 66.40625 31.78125 66.40625 \nz\nM 31.78125 74.21875 \nQ 44.046875 74.21875 50.515625 64.515625 \nQ 56.984375 54.828125 56.984375 36.375 \nQ 56.984375 17.96875 50.515625 8.265625 \nQ 44.046875 -1.421875 31.78125 -1.421875 \nQ 19.53125 -1.421875 13.0625 8.265625 \nQ 6.59375 17.96875 6.59375 36.375 \nQ 6.59375 54.828125 13.0625 64.515625 \nQ 19.53125 74.21875 31.78125 74.21875 \nz\n\" id=\"DejaVuSans-48\"/>\n       <path d=\"M 10.6875 12.40625 \nL 21 12.40625 \nL 21 0 \nL 10.6875 0 \nz\n\" id=\"DejaVuSans-46\"/>\n       <path d=\"M 10.796875 72.90625 \nL 49.515625 72.90625 \nL 49.515625 64.59375 \nL 19.828125 64.59375 \nL 19.828125 46.734375 \nQ 21.96875 47.46875 24.109375 47.828125 \nQ 26.265625 48.1875 28.421875 48.1875 \nQ 40.625 48.1875 47.75 41.5 \nQ 54.890625 34.8125 54.890625 23.390625 \nQ 54.890625 11.625 47.5625 5.09375 \nQ 40.234375 -1.421875 26.90625 -1.421875 \nQ 22.3125 -1.421875 17.546875 -0.640625 \nQ 12.796875 0.140625 7.71875 1.703125 \nL 7.71875 11.625 \nQ 12.109375 9.234375 16.796875 8.0625 \nQ 21.484375 6.890625 26.703125 6.890625 \nQ 35.15625 6.890625 40.078125 11.328125 \nQ 45.015625 15.765625 45.015625 23.390625 \nQ 45.015625 31 40.078125 35.4375 \nQ 35.15625 39.890625 26.703125 39.890625 \nQ 22.75 39.890625 18.8125 39.015625 \nQ 14.890625 38.140625 10.796875 36.28125 \nz\n\" id=\"DejaVuSans-53\"/>\n      </defs>\n      <g transform=\"translate(7.2 315.556028)scale(0.11 -0.11)\">\n       <use xlink:href=\"#DejaVuSans-48\"/>\n       <use x=\"63.623047\" xlink:href=\"#DejaVuSans-46\"/>\n       <use x=\"95.410156\" xlink:href=\"#DejaVuSans-53\"/>\n       <use x=\"159.033203\" xlink:href=\"#DejaVuSans-48\"/>\n      </g>\n     </g>\n    </g>\n    <g id=\"ytick_2\">\n     <g id=\"line2d_19\">\n      <path clip-path=\"url(#p07cb4a1c83)\" d=\"M 35.192188 253.23785 \nL 786.872187 253.23785 \n\" style=\"fill:none;stroke:#cbcbcb;\"/>\n     </g>\n     <g id=\"line2d_20\"/>\n     <g id=\"text_10\">\n      <!-- 0.55 -->\n      <g transform=\"translate(7.2 257.416991)scale(0.11 -0.11)\">\n       <use xlink:href=\"#DejaVuSans-48\"/>\n       <use x=\"63.623047\" xlink:href=\"#DejaVuSans-46\"/>\n       <use x=\"95.410156\" xlink:href=\"#DejaVuSans-53\"/>\n       <use x=\"159.033203\" xlink:href=\"#DejaVuSans-53\"/>\n      </g>\n     </g>\n    </g>\n    <g id=\"ytick_3\">\n     <g id=\"line2d_21\">\n      <path clip-path=\"url(#p07cb4a1c83)\" d=\"M 35.192188 195.098813 \nL 786.872187 195.098813 \n\" style=\"fill:none;stroke:#cbcbcb;\"/>\n     </g>\n     <g id=\"line2d_22\"/>\n     <g id=\"text_11\">\n      <!-- 0.60 -->\n      <defs>\n       <path d=\"M 33.015625 40.375 \nQ 26.375 40.375 22.484375 35.828125 \nQ 18.609375 31.296875 18.609375 23.390625 \nQ 18.609375 15.53125 22.484375 10.953125 \nQ 26.375 6.390625 33.015625 6.390625 \nQ 39.65625 6.390625 43.53125 10.953125 \nQ 47.40625 15.53125 47.40625 23.390625 \nQ 47.40625 31.296875 43.53125 35.828125 \nQ 39.65625 40.375 33.015625 40.375 \nz\nM 52.59375 71.296875 \nL 52.59375 62.3125 \nQ 48.875 64.0625 45.09375 64.984375 \nQ 41.3125 65.921875 37.59375 65.921875 \nQ 27.828125 65.921875 22.671875 59.328125 \nQ 17.53125 52.734375 16.796875 39.40625 \nQ 19.671875 43.65625 24.015625 45.921875 \nQ 28.375 48.1875 33.59375 48.1875 \nQ 44.578125 48.1875 50.953125 41.515625 \nQ 57.328125 34.859375 57.328125 23.390625 \nQ 57.328125 12.15625 50.6875 5.359375 \nQ 44.046875 -1.421875 33.015625 -1.421875 \nQ 20.359375 -1.421875 13.671875 8.265625 \nQ 6.984375 17.96875 6.984375 36.375 \nQ 6.984375 53.65625 15.1875 63.9375 \nQ 23.390625 74.21875 37.203125 74.21875 \nQ 40.921875 74.21875 44.703125 73.484375 \nQ 48.484375 72.75 52.59375 71.296875 \nz\n\" id=\"DejaVuSans-54\"/>\n      </defs>\n      <g transform=\"translate(7.2 199.277953)scale(0.11 -0.11)\">\n       <use xlink:href=\"#DejaVuSans-48\"/>\n       <use x=\"63.623047\" xlink:href=\"#DejaVuSans-46\"/>\n       <use x=\"95.410156\" xlink:href=\"#DejaVuSans-54\"/>\n       <use x=\"159.033203\" xlink:href=\"#DejaVuSans-48\"/>\n      </g>\n     </g>\n    </g>\n    <g id=\"ytick_4\">\n     <g id=\"line2d_23\">\n      <path clip-path=\"url(#p07cb4a1c83)\" d=\"M 35.192188 136.959775 \nL 786.872187 136.959775 \n\" style=\"fill:none;stroke:#cbcbcb;\"/>\n     </g>\n     <g id=\"line2d_24\"/>\n     <g id=\"text_12\">\n      <!-- 0.65 -->\n      <g transform=\"translate(7.2 141.138916)scale(0.11 -0.11)\">\n       <use xlink:href=\"#DejaVuSans-48\"/>\n       <use x=\"63.623047\" xlink:href=\"#DejaVuSans-46\"/>\n       <use x=\"95.410156\" xlink:href=\"#DejaVuSans-54\"/>\n       <use x=\"159.033203\" xlink:href=\"#DejaVuSans-53\"/>\n      </g>\n     </g>\n    </g>\n    <g id=\"ytick_5\">\n     <g id=\"line2d_25\">\n      <path clip-path=\"url(#p07cb4a1c83)\" d=\"M 35.192188 78.820738 \nL 786.872187 78.820738 \n\" style=\"fill:none;stroke:#cbcbcb;\"/>\n     </g>\n     <g id=\"line2d_26\"/>\n     <g id=\"text_13\">\n      <!-- 0.70 -->\n      <defs>\n       <path d=\"M 8.203125 72.90625 \nL 55.078125 72.90625 \nL 55.078125 68.703125 \nL 28.609375 0 \nL 18.3125 0 \nL 43.21875 64.59375 \nL 8.203125 64.59375 \nz\n\" id=\"DejaVuSans-55\"/>\n      </defs>\n      <g transform=\"translate(7.2 82.999878)scale(0.11 -0.11)\">\n       <use xlink:href=\"#DejaVuSans-48\"/>\n       <use x=\"63.623047\" xlink:href=\"#DejaVuSans-46\"/>\n       <use x=\"95.410156\" xlink:href=\"#DejaVuSans-55\"/>\n       <use x=\"159.033203\" xlink:href=\"#DejaVuSans-48\"/>\n      </g>\n     </g>\n    </g>\n   </g>\n   <g id=\"line2d_27\">\n    <path clip-path=\"url(#p07cb4a1c83)\" d=\"M 69.35946 187.346941 \nL 166.980239 158.277422 \nL 264.601019 336.57047 \nL 362.221798 144.711647 \nL 459.842577 169.90523 \nL 557.463356 171.843198 \nL 655.084136 191.222877 \nL 752.704915 204.788652 \n\" style=\"fill:none;stroke:#ffa500;stroke-width:6;\"/>\n   </g>\n   <g id=\"line2d_28\">\n    <path clip-path=\"url(#p07cb4a1c83)\" d=\"M 69.35946 40.06138 \nL 166.980239 214.478492 \nL 264.601019 214.478492 \nL 362.221798 253.23785 \nL 459.842577 291.997208 \nL 557.463356 214.478492 \nL 655.084136 311.376888 \nL 752.704915 272.617529 \n\" style=\"fill:none;stroke:#ff0000;stroke-width:6;\"/>\n   </g>\n   <g id=\"line2d_29\">\n    <path clip-path=\"url(#p07cb4a1c83)\" d=\"M 69.35946 260.377732 \nL 166.980239 207.921458 \nL 264.601019 263.291969 \nL 362.221798 199.178745 \nL 459.842577 280.777394 \nL 557.463356 269.120444 \nL 655.084136 251.63502 \nL 752.704915 245.806545 \n\" style=\"fill:none;stroke:#ffff00;stroke-width:6;\"/>\n   </g>\n   <g id=\"line2d_30\">\n    <path clip-path=\"url(#p07cb4a1c83)\" d=\"M 69.35946 237.734107 \nL 166.980239 235.796139 \nL 264.601019 307.500952 \nL 362.221798 210.602556 \nL 459.842577 243.548011 \nL 557.463356 270.679561 \nL 655.084136 222.230364 \nL 752.704915 197.036781 \n\" style=\"fill:none;stroke:#808080;stroke-width:6;\"/>\n   </g>\n   <g id=\"line2d_31\">\n    <path clip-path=\"url(#p07cb4a1c83)\" d=\"M 69.35946 175.467449 \nL 166.980239 190.568498 \nL 264.601019 213.220071 \nL 362.221798 198.119022 \nL 459.842577 205.669547 \nL 557.463356 281.17479 \nL 655.084136 213.220071 \nL 752.704915 175.467449 \n\" style=\"fill:none;stroke:#0000ff;stroke-width:6;\"/>\n   </g>\n   <g id=\"line2d_32\">\n    <path clip-path=\"url(#p07cb4a1c83)\" d=\"M 69.35946 148.587583 \nL 166.980239 148.587583 \nL 264.601019 305.562984 \nL 362.221798 140.835711 \nL 459.842577 185.408973 \nL 557.463356 158.277422 \nL 655.084136 210.602556 \nL 752.704915 200.912716 \n\" style=\"fill:none;stroke:#008000;stroke-width:6;\"/>\n   </g>\n   <g id=\"patch_3\">\n    <path d=\"M 35.192188 351.395925 \nL 35.192188 25.235925 \n\" style=\"fill:none;stroke:#f0f0f0;stroke-linecap:square;stroke-linejoin:miter;stroke-width:3;\"/>\n   </g>\n   <g id=\"patch_4\">\n    <path d=\"M 786.872187 351.395925 \nL 786.872187 25.235925 \n\" style=\"fill:none;stroke:#f0f0f0;stroke-linecap:square;stroke-linejoin:miter;stroke-width:3;\"/>\n   </g>\n   <g id=\"patch_5\">\n    <path d=\"M 35.192188 351.395925 \nL 786.872187 351.395925 \n\" style=\"fill:none;stroke:#f0f0f0;stroke-linecap:square;stroke-linejoin:miter;stroke-width:3;\"/>\n   </g>\n   <g id=\"patch_6\">\n    <path d=\"M 35.192188 25.235925 \nL 786.872187 25.235925 \n\" style=\"fill:none;stroke:#f0f0f0;stroke-linecap:square;stroke-linejoin:miter;stroke-width:3;\"/>\n   </g>\n   <g id=\"text_14\">\n    <!-- Prediction Accuracy on the time of reviews (2012-2013 vs 2016-2017) -->\n    <defs>\n     <path d=\"M 19.671875 64.796875 \nL 19.671875 37.40625 \nL 32.078125 37.40625 \nQ 38.96875 37.40625 42.71875 40.96875 \nQ 46.484375 44.53125 46.484375 51.125 \nQ 46.484375 57.671875 42.71875 61.234375 \nQ 38.96875 64.796875 32.078125 64.796875 \nz\nM 9.8125 72.90625 \nL 32.078125 72.90625 \nQ 44.34375 72.90625 50.609375 67.359375 \nQ 56.890625 61.8125 56.890625 51.125 \nQ 56.890625 40.328125 50.609375 34.8125 \nQ 44.34375 29.296875 32.078125 29.296875 \nL 19.671875 29.296875 \nL 19.671875 0 \nL 9.8125 0 \nz\n\" id=\"DejaVuSans-80\"/>\n     <path d=\"M 48.78125 52.59375 \nL 48.78125 44.1875 \nQ 44.96875 46.296875 41.140625 47.34375 \nQ 37.3125 48.390625 33.40625 48.390625 \nQ 24.65625 48.390625 19.8125 42.84375 \nQ 14.984375 37.3125 14.984375 27.296875 \nQ 14.984375 17.28125 19.8125 11.734375 \nQ 24.65625 6.203125 33.40625 6.203125 \nQ 37.3125 6.203125 41.140625 7.25 \nQ 44.96875 8.296875 48.78125 10.40625 \nL 48.78125 2.09375 \nQ 45.015625 0.34375 40.984375 -0.53125 \nQ 36.96875 -1.421875 32.421875 -1.421875 \nQ 20.0625 -1.421875 12.78125 6.34375 \nQ 5.515625 14.109375 5.515625 27.296875 \nQ 5.515625 40.671875 12.859375 48.328125 \nQ 20.21875 56 33.015625 56 \nQ 37.15625 56 41.109375 55.140625 \nQ 45.0625 54.296875 48.78125 52.59375 \nz\n\" id=\"DejaVuSans-99\"/>\n     <path d=\"M 54.890625 33.015625 \nL 54.890625 0 \nL 45.90625 0 \nL 45.90625 32.71875 \nQ 45.90625 40.484375 42.875 44.328125 \nQ 39.84375 48.1875 33.796875 48.1875 \nQ 26.515625 48.1875 22.3125 43.546875 \nQ 18.109375 38.921875 18.109375 30.90625 \nL 18.109375 0 \nL 9.078125 0 \nL 9.078125 75.984375 \nL 18.109375 75.984375 \nL 18.109375 46.1875 \nQ 21.34375 51.125 25.703125 53.5625 \nQ 30.078125 56 35.796875 56 \nQ 45.21875 56 50.046875 50.171875 \nQ 54.890625 44.34375 54.890625 33.015625 \nz\n\" id=\"DejaVuSans-104\"/>\n     <path d=\"M 37.109375 75.984375 \nL 37.109375 68.5 \nL 28.515625 68.5 \nQ 23.6875 68.5 21.796875 66.546875 \nQ 19.921875 64.59375 19.921875 59.515625 \nL 19.921875 54.6875 \nL 34.71875 54.6875 \nL 34.71875 47.703125 \nL 19.921875 47.703125 \nL 19.921875 0 \nL 10.890625 0 \nL 10.890625 47.703125 \nL 2.296875 47.703125 \nL 2.296875 54.6875 \nL 10.890625 54.6875 \nL 10.890625 58.5 \nQ 10.890625 67.625 15.140625 71.796875 \nQ 19.390625 75.984375 28.609375 75.984375 \nz\n\" id=\"DejaVuSans-102\"/>\n     <path d=\"M 31 75.875 \nQ 24.46875 64.65625 21.28125 53.65625 \nQ 18.109375 42.671875 18.109375 31.390625 \nQ 18.109375 20.125 21.3125 9.0625 \nQ 24.515625 -2 31 -13.1875 \nL 23.1875 -13.1875 \nQ 15.875 -1.703125 12.234375 9.375 \nQ 8.59375 20.453125 8.59375 31.390625 \nQ 8.59375 42.28125 12.203125 53.3125 \nQ 15.828125 64.359375 23.1875 75.875 \nz\n\" id=\"DejaVuSans-40\"/>\n     <path d=\"M 19.1875 8.296875 \nL 53.609375 8.296875 \nL 53.609375 0 \nL 7.328125 0 \nL 7.328125 8.296875 \nQ 12.9375 14.109375 22.625 23.890625 \nQ 32.328125 33.6875 34.8125 36.53125 \nQ 39.546875 41.84375 41.421875 45.53125 \nQ 43.3125 49.21875 43.3125 52.78125 \nQ 43.3125 58.59375 39.234375 62.25 \nQ 35.15625 65.921875 28.609375 65.921875 \nQ 23.96875 65.921875 18.8125 64.3125 \nQ 13.671875 62.703125 7.8125 59.421875 \nL 7.8125 69.390625 \nQ 13.765625 71.78125 18.9375 73 \nQ 24.125 74.21875 28.421875 74.21875 \nQ 39.75 74.21875 46.484375 68.546875 \nQ 53.21875 62.890625 53.21875 53.421875 \nQ 53.21875 48.921875 51.53125 44.890625 \nQ 49.859375 40.875 45.40625 35.40625 \nQ 44.1875 33.984375 37.640625 27.21875 \nQ 31.109375 20.453125 19.1875 8.296875 \nz\n\" id=\"DejaVuSans-50\"/>\n     <path d=\"M 12.40625 8.296875 \nL 28.515625 8.296875 \nL 28.515625 63.921875 \nL 10.984375 60.40625 \nL 10.984375 69.390625 \nL 28.421875 72.90625 \nL 38.28125 72.90625 \nL 38.28125 8.296875 \nL 54.390625 8.296875 \nL 54.390625 0 \nL 12.40625 0 \nz\n\" id=\"DejaVuSans-49\"/>\n     <path d=\"M 4.890625 31.390625 \nL 31.203125 31.390625 \nL 31.203125 23.390625 \nL 4.890625 23.390625 \nz\n\" id=\"DejaVuSans-45\"/>\n     <path d=\"M 40.578125 39.3125 \nQ 47.65625 37.796875 51.625 33 \nQ 55.609375 28.21875 55.609375 21.1875 \nQ 55.609375 10.40625 48.1875 4.484375 \nQ 40.765625 -1.421875 27.09375 -1.421875 \nQ 22.515625 -1.421875 17.65625 -0.515625 \nQ 12.796875 0.390625 7.625 2.203125 \nL 7.625 11.71875 \nQ 11.71875 9.328125 16.59375 8.109375 \nQ 21.484375 6.890625 26.8125 6.890625 \nQ 36.078125 6.890625 40.9375 10.546875 \nQ 45.796875 14.203125 45.796875 21.1875 \nQ 45.796875 27.640625 41.28125 31.265625 \nQ 36.765625 34.90625 28.71875 34.90625 \nL 20.21875 34.90625 \nL 20.21875 43.015625 \nL 29.109375 43.015625 \nQ 36.375 43.015625 40.234375 45.921875 \nQ 44.09375 48.828125 44.09375 54.296875 \nQ 44.09375 59.90625 40.109375 62.90625 \nQ 36.140625 65.921875 28.71875 65.921875 \nQ 24.65625 65.921875 20.015625 65.03125 \nQ 15.375 64.15625 9.8125 62.3125 \nL 9.8125 71.09375 \nQ 15.4375 72.65625 20.34375 73.4375 \nQ 25.25 74.21875 29.59375 74.21875 \nQ 40.828125 74.21875 47.359375 69.109375 \nQ 53.90625 64.015625 53.90625 55.328125 \nQ 53.90625 49.265625 50.4375 45.09375 \nQ 46.96875 40.921875 40.578125 39.3125 \nz\n\" id=\"DejaVuSans-51\"/>\n     <path d=\"M 8.015625 75.875 \nL 15.828125 75.875 \nQ 23.140625 64.359375 26.78125 53.3125 \nQ 30.421875 42.28125 30.421875 31.390625 \nQ 30.421875 20.453125 26.78125 9.375 \nQ 23.140625 -1.703125 15.828125 -13.1875 \nL 8.015625 -13.1875 \nQ 14.5 -2 17.703125 9.0625 \nQ 20.90625 20.125 20.90625 31.390625 \nQ 20.90625 42.671875 17.703125 53.65625 \nQ 14.5 64.65625 8.015625 75.875 \nz\n\" id=\"DejaVuSans-41\"/>\n    </defs>\n    <g transform=\"translate(132.2123 19.235925)scale(0.1584 -0.1584)\">\n     <use xlink:href=\"#DejaVuSans-80\"/>\n     <use x=\"60.287109\" xlink:href=\"#DejaVuSans-114\"/>\n     <use x=\"101.369141\" xlink:href=\"#DejaVuSans-101\"/>\n     <use x=\"162.892578\" xlink:href=\"#DejaVuSans-100\"/>\n     <use x=\"226.369141\" xlink:href=\"#DejaVuSans-105\"/>\n     <use x=\"254.152344\" xlink:href=\"#DejaVuSans-99\"/>\n     <use x=\"309.132812\" xlink:href=\"#DejaVuSans-116\"/>\n     <use x=\"348.341797\" xlink:href=\"#DejaVuSans-105\"/>\n     <use x=\"376.125\" xlink:href=\"#DejaVuSans-111\"/>\n     <use x=\"437.306641\" xlink:href=\"#DejaVuSans-110\"/>\n     <use x=\"500.685547\" xlink:href=\"#DejaVuSans-32\"/>\n     <use x=\"532.472656\" xlink:href=\"#DejaVuSans-65\"/>\n     <use x=\"600.865234\" xlink:href=\"#DejaVuSans-99\"/>\n     <use x=\"655.845703\" xlink:href=\"#DejaVuSans-99\"/>\n     <use x=\"710.826172\" xlink:href=\"#DejaVuSans-117\"/>\n     <use x=\"774.205078\" xlink:href=\"#DejaVuSans-114\"/>\n     <use x=\"815.318359\" xlink:href=\"#DejaVuSans-97\"/>\n     <use x=\"876.597656\" xlink:href=\"#DejaVuSans-99\"/>\n     <use x=\"931.578125\" xlink:href=\"#DejaVuSans-121\"/>\n     <use x=\"990.757812\" xlink:href=\"#DejaVuSans-32\"/>\n     <use x=\"1022.544922\" xlink:href=\"#DejaVuSans-111\"/>\n     <use x=\"1083.726562\" xlink:href=\"#DejaVuSans-110\"/>\n     <use x=\"1147.105469\" xlink:href=\"#DejaVuSans-32\"/>\n     <use x=\"1178.892578\" xlink:href=\"#DejaVuSans-116\"/>\n     <use x=\"1218.101562\" xlink:href=\"#DejaVuSans-104\"/>\n     <use x=\"1281.480469\" xlink:href=\"#DejaVuSans-101\"/>\n     <use x=\"1343.003906\" xlink:href=\"#DejaVuSans-32\"/>\n     <use x=\"1374.791016\" xlink:href=\"#DejaVuSans-116\"/>\n     <use x=\"1414\" xlink:href=\"#DejaVuSans-105\"/>\n     <use x=\"1441.783203\" xlink:href=\"#DejaVuSans-109\"/>\n     <use x=\"1539.195312\" xlink:href=\"#DejaVuSans-101\"/>\n     <use x=\"1600.71875\" xlink:href=\"#DejaVuSans-32\"/>\n     <use x=\"1632.505859\" xlink:href=\"#DejaVuSans-111\"/>\n     <use x=\"1693.6875\" xlink:href=\"#DejaVuSans-102\"/>\n     <use x=\"1728.892578\" xlink:href=\"#DejaVuSans-32\"/>\n     <use x=\"1760.679688\" xlink:href=\"#DejaVuSans-114\"/>\n     <use x=\"1801.761719\" xlink:href=\"#DejaVuSans-101\"/>\n     <use x=\"1863.285156\" xlink:href=\"#DejaVuSans-118\"/>\n     <use x=\"1922.464844\" xlink:href=\"#DejaVuSans-105\"/>\n     <use x=\"1950.248047\" xlink:href=\"#DejaVuSans-101\"/>\n     <use x=\"2011.771484\" xlink:href=\"#DejaVuSans-119\"/>\n     <use x=\"2093.558594\" xlink:href=\"#DejaVuSans-115\"/>\n     <use x=\"2145.658203\" xlink:href=\"#DejaVuSans-32\"/>\n     <use x=\"2177.445312\" xlink:href=\"#DejaVuSans-40\"/>\n     <use x=\"2216.458984\" xlink:href=\"#DejaVuSans-50\"/>\n     <use x=\"2280.082031\" xlink:href=\"#DejaVuSans-48\"/>\n     <use x=\"2343.705078\" xlink:href=\"#DejaVuSans-49\"/>\n     <use x=\"2407.328125\" xlink:href=\"#DejaVuSans-50\"/>\n     <use x=\"2470.951172\" xlink:href=\"#DejaVuSans-45\"/>\n     <use x=\"2507.035156\" xlink:href=\"#DejaVuSans-50\"/>\n     <use x=\"2570.658203\" xlink:href=\"#DejaVuSans-48\"/>\n     <use x=\"2634.28125\" xlink:href=\"#DejaVuSans-49\"/>\n     <use x=\"2697.904297\" xlink:href=\"#DejaVuSans-51\"/>\n     <use x=\"2761.527344\" xlink:href=\"#DejaVuSans-32\"/>\n     <use x=\"2793.314453\" xlink:href=\"#DejaVuSans-118\"/>\n     <use x=\"2852.494141\" xlink:href=\"#DejaVuSans-115\"/>\n     <use x=\"2904.59375\" xlink:href=\"#DejaVuSans-32\"/>\n     <use x=\"2936.380859\" xlink:href=\"#DejaVuSans-50\"/>\n     <use x=\"3000.003906\" xlink:href=\"#DejaVuSans-48\"/>\n     <use x=\"3063.626953\" xlink:href=\"#DejaVuSans-49\"/>\n     <use x=\"3127.25\" xlink:href=\"#DejaVuSans-54\"/>\n     <use x=\"3190.873047\" xlink:href=\"#DejaVuSans-45\"/>\n     <use x=\"3226.957031\" xlink:href=\"#DejaVuSans-50\"/>\n     <use x=\"3290.580078\" xlink:href=\"#DejaVuSans-48\"/>\n     <use x=\"3354.203125\" xlink:href=\"#DejaVuSans-49\"/>\n     <use x=\"3417.826172\" xlink:href=\"#DejaVuSans-55\"/>\n     <use x=\"3481.449219\" xlink:href=\"#DejaVuSans-41\"/>\n    </g>\n   </g>\n   <g id=\"legend_1\">\n    <g id=\"patch_7\">\n     <path d=\"M 692.260156 130.91155 \nL 779.172187 130.91155 \nQ 781.372187 130.91155 781.372187 128.71155 \nL 781.372187 32.935925 \nQ 781.372187 30.735925 779.172187 30.735925 \nL 692.260156 30.735925 \nQ 690.060156 30.735925 690.060156 32.935925 \nL 690.060156 128.71155 \nQ 690.060156 130.91155 692.260156 130.91155 \nz\n\" style=\"fill:#f0f0f0;opacity:0.8;stroke:#cccccc;stroke-linejoin:miter;stroke-width:0.5;\"/>\n    </g>\n    <g id=\"line2d_33\">\n     <path d=\"M 694.460156 39.644206 \nL 716.460156 39.644206 \n\" style=\"fill:none;stroke:#ffa500;stroke-width:6;\"/>\n    </g>\n    <g id=\"line2d_34\"/>\n    <g id=\"text_15\">\n     <!-- amazon -->\n     <defs>\n      <path d=\"M 5.515625 54.6875 \nL 48.1875 54.6875 \nL 48.1875 46.484375 \nL 14.40625 7.171875 \nL 48.1875 7.171875 \nL 48.1875 0 \nL 4.296875 0 \nL 4.296875 8.203125 \nL 38.09375 47.515625 \nL 5.515625 47.515625 \nz\n\" id=\"DejaVuSans-122\"/>\n     </defs>\n     <g transform=\"translate(725.260156 43.494206)scale(0.11 -0.11)\">\n      <use xlink:href=\"#DejaVuSans-97\"/>\n      <use x=\"61.279297\" xlink:href=\"#DejaVuSans-109\"/>\n      <use x=\"158.691406\" xlink:href=\"#DejaVuSans-97\"/>\n      <use x=\"219.970703\" xlink:href=\"#DejaVuSans-122\"/>\n      <use x=\"272.460938\" xlink:href=\"#DejaVuSans-111\"/>\n      <use x=\"333.642578\" xlink:href=\"#DejaVuSans-110\"/>\n     </g>\n    </g>\n    <g id=\"line2d_35\">\n     <path d=\"M 694.460156 55.790144 \nL 716.460156 55.790144 \n\" style=\"fill:none;stroke:#ff0000;stroke-width:6;\"/>\n    </g>\n    <g id=\"line2d_36\"/>\n    <g id=\"text_16\">\n     <!-- netflix -->\n     <defs>\n      <path d=\"M 54.890625 54.6875 \nL 35.109375 28.078125 \nL 55.90625 0 \nL 45.3125 0 \nL 29.390625 21.484375 \nL 13.484375 0 \nL 2.875 0 \nL 24.125 28.609375 \nL 4.6875 54.6875 \nL 15.28125 54.6875 \nL 29.78125 35.203125 \nL 44.28125 54.6875 \nz\n\" id=\"DejaVuSans-120\"/>\n     </defs>\n     <g transform=\"translate(725.260156 59.640144)scale(0.11 -0.11)\">\n      <use xlink:href=\"#DejaVuSans-110\"/>\n      <use x=\"63.378906\" xlink:href=\"#DejaVuSans-101\"/>\n      <use x=\"124.902344\" xlink:href=\"#DejaVuSans-116\"/>\n      <use x=\"164.111328\" xlink:href=\"#DejaVuSans-102\"/>\n      <use x=\"199.316406\" xlink:href=\"#DejaVuSans-108\"/>\n      <use x=\"227.099609\" xlink:href=\"#DejaVuSans-105\"/>\n      <use x=\"254.882812\" xlink:href=\"#DejaVuSans-120\"/>\n     </g>\n    </g>\n    <g id=\"line2d_37\">\n     <path d=\"M 694.460156 71.936081 \nL 716.460156 71.936081 \n\" style=\"fill:none;stroke:#ffff00;stroke-width:6;\"/>\n    </g>\n    <g id=\"line2d_38\"/>\n    <g id=\"text_17\">\n     <!-- google -->\n     <g transform=\"translate(725.260156 75.786081)scale(0.11 -0.11)\">\n      <use xlink:href=\"#DejaVuSans-103\"/>\n      <use x=\"63.476562\" xlink:href=\"#DejaVuSans-111\"/>\n      <use x=\"124.658203\" xlink:href=\"#DejaVuSans-111\"/>\n      <use x=\"185.839844\" xlink:href=\"#DejaVuSans-103\"/>\n      <use x=\"249.316406\" xlink:href=\"#DejaVuSans-108\"/>\n      <use x=\"277.099609\" xlink:href=\"#DejaVuSans-101\"/>\n     </g>\n    </g>\n    <g id=\"line2d_39\">\n     <path d=\"M 694.460156 88.082019 \nL 716.460156 88.082019 \n\" style=\"fill:none;stroke:#808080;stroke-width:6;\"/>\n    </g>\n    <g id=\"line2d_40\"/>\n    <g id=\"text_18\">\n     <!-- apple -->\n     <defs>\n      <path d=\"M 18.109375 8.203125 \nL 18.109375 -20.796875 \nL 9.078125 -20.796875 \nL 9.078125 54.6875 \nL 18.109375 54.6875 \nL 18.109375 46.390625 \nQ 20.953125 51.265625 25.265625 53.625 \nQ 29.59375 56 35.59375 56 \nQ 45.5625 56 51.78125 48.09375 \nQ 58.015625 40.1875 58.015625 27.296875 \nQ 58.015625 14.40625 51.78125 6.484375 \nQ 45.5625 -1.421875 35.59375 -1.421875 \nQ 29.59375 -1.421875 25.265625 0.953125 \nQ 20.953125 3.328125 18.109375 8.203125 \nz\nM 48.6875 27.296875 \nQ 48.6875 37.203125 44.609375 42.84375 \nQ 40.53125 48.484375 33.40625 48.484375 \nQ 26.265625 48.484375 22.1875 42.84375 \nQ 18.109375 37.203125 18.109375 27.296875 \nQ 18.109375 17.390625 22.1875 11.75 \nQ 26.265625 6.109375 33.40625 6.109375 \nQ 40.53125 6.109375 44.609375 11.75 \nQ 48.6875 17.390625 48.6875 27.296875 \nz\n\" id=\"DejaVuSans-112\"/>\n     </defs>\n     <g transform=\"translate(725.260156 91.932019)scale(0.11 -0.11)\">\n      <use xlink:href=\"#DejaVuSans-97\"/>\n      <use x=\"61.279297\" xlink:href=\"#DejaVuSans-112\"/>\n      <use x=\"124.755859\" xlink:href=\"#DejaVuSans-112\"/>\n      <use x=\"188.232422\" xlink:href=\"#DejaVuSans-108\"/>\n      <use x=\"216.015625\" xlink:href=\"#DejaVuSans-101\"/>\n     </g>\n    </g>\n    <g id=\"line2d_41\">\n     <path d=\"M 694.460156 104.227956 \nL 716.460156 104.227956 \n\" style=\"fill:none;stroke:#0000ff;stroke-width:6;\"/>\n    </g>\n    <g id=\"line2d_42\"/>\n    <g id=\"text_19\">\n     <!-- facebook -->\n     <defs>\n      <path d=\"M 48.6875 27.296875 \nQ 48.6875 37.203125 44.609375 42.84375 \nQ 40.53125 48.484375 33.40625 48.484375 \nQ 26.265625 48.484375 22.1875 42.84375 \nQ 18.109375 37.203125 18.109375 27.296875 \nQ 18.109375 17.390625 22.1875 11.75 \nQ 26.265625 6.109375 33.40625 6.109375 \nQ 40.53125 6.109375 44.609375 11.75 \nQ 48.6875 17.390625 48.6875 27.296875 \nz\nM 18.109375 46.390625 \nQ 20.953125 51.265625 25.265625 53.625 \nQ 29.59375 56 35.59375 56 \nQ 45.5625 56 51.78125 48.09375 \nQ 58.015625 40.1875 58.015625 27.296875 \nQ 58.015625 14.40625 51.78125 6.484375 \nQ 45.5625 -1.421875 35.59375 -1.421875 \nQ 29.59375 -1.421875 25.265625 0.953125 \nQ 20.953125 3.328125 18.109375 8.203125 \nL 18.109375 0 \nL 9.078125 0 \nL 9.078125 75.984375 \nL 18.109375 75.984375 \nz\n\" id=\"DejaVuSans-98\"/>\n     </defs>\n     <g transform=\"translate(725.260156 108.077956)scale(0.11 -0.11)\">\n      <use xlink:href=\"#DejaVuSans-102\"/>\n      <use x=\"35.205078\" xlink:href=\"#DejaVuSans-97\"/>\n      <use x=\"96.484375\" xlink:href=\"#DejaVuSans-99\"/>\n      <use x=\"151.464844\" xlink:href=\"#DejaVuSans-101\"/>\n      <use x=\"212.988281\" xlink:href=\"#DejaVuSans-98\"/>\n      <use x=\"276.464844\" xlink:href=\"#DejaVuSans-111\"/>\n      <use x=\"337.646484\" xlink:href=\"#DejaVuSans-111\"/>\n      <use x=\"398.828125\" xlink:href=\"#DejaVuSans-107\"/>\n     </g>\n    </g>\n    <g id=\"line2d_43\">\n     <path d=\"M 694.460156 120.373894 \nL 716.460156 120.373894 \n\" style=\"fill:none;stroke:#008000;stroke-width:6;\"/>\n    </g>\n    <g id=\"line2d_44\"/>\n    <g id=\"text_20\">\n     <!-- microsoft -->\n     <g transform=\"translate(725.260156 124.223894)scale(0.11 -0.11)\">\n      <use xlink:href=\"#DejaVuSans-109\"/>\n      <use x=\"97.412109\" xlink:href=\"#DejaVuSans-105\"/>\n      <use x=\"125.195312\" xlink:href=\"#DejaVuSans-99\"/>\n      <use x=\"180.175781\" xlink:href=\"#DejaVuSans-114\"/>\n      <use x=\"221.257812\" xlink:href=\"#DejaVuSans-111\"/>\n      <use x=\"282.439453\" xlink:href=\"#DejaVuSans-115\"/>\n      <use x=\"334.539062\" xlink:href=\"#DejaVuSans-111\"/>\n      <use x=\"395.720703\" xlink:href=\"#DejaVuSans-102\"/>\n      <use x=\"430.910156\" xlink:href=\"#DejaVuSans-116\"/>\n     </g>\n    </g>\n   </g>\n  </g>\n </g>\n <defs>\n  <clipPath id=\"p07cb4a1c83\">\n   <rect height=\"326.16\" width=\"751.68\" x=\"35.192188\" y=\"25.235925\"/>\n  </clipPath>\n </defs>\n</svg>\n",
      "image/png": "[encoded data removed]"
     },
     "metadata": {}
    }
   ],
   "source": [
    "fig = plt.figure(figsize = (12,6))\n",
    "fig.set_facecolor('#f0fcfa')\n",
    "\n",
    "plt.rc('font', size=11)\n",
    "\n",
    "plt.title('Prediction Accuracy on the time of reviews (2012-2013 vs 2016-2017)') \n",
    "plt.plot(df_table.loc[2][1:], color ='orange', label = 'amazon', linewidth=6)\n",
    "plt.plot(df_table.loc[3][1:], color ='red', label = 'netflix', linewidth=6)\n",
    "plt.plot(df_table.loc[0][1:], color ='yellow', label = 'google', linewidth=6)\n",
    "plt.plot(df_table.loc[4][1:], color ='gray', label = 'apple', linewidth=6)\n",
    "plt.plot(df_table.loc[5][1:], color ='blue', label = 'facebook', linewidth=6)\n",
    "plt.plot(df_table.loc[1][1:], color ='green', label = 'microsoft', linewidth=6)\n",
    "\n",
    "plt.legend()\n",
    "plt.savefig('output_4/predictions.png', bbox_inches='tight')"
   ]
  },
  {
   "cell_type": "code",
   "execution_count": null,
   "metadata": {},
   "outputs": [],
   "source": []
  },
  {
   "cell_type": "code",
   "execution_count": null,
   "metadata": {},
   "outputs": [],
   "source": []
  },
  {
   "source": [
    "Naive Bayes for Google and Microsoft"
   ],
   "cell_type": "markdown",
   "metadata": {}
  },
  {
   "source": [
    "Google"
   ],
   "cell_type": "markdown",
   "metadata": {}
  },
  {
   "cell_type": "code",
   "execution_count": 50,
   "metadata": {},
   "outputs": [
    {
     "output_type": "execute_result",
     "data": {
      "text/plain": [
       "2017    1298\n",
       "2016    1186\n",
       "2013     394\n",
       "2012     272\n",
       "Name: year, dtype: int64"
      ]
     },
     "metadata": {},
     "execution_count": 50
    }
   ],
   "source": [
    "df2['year'].value_counts()"
   ]
  },
  {
   "cell_type": "code",
   "execution_count": 51,
   "metadata": {},
   "outputs": [],
   "source": [
    "train_df2, test_df2, TFVectorizer= data_split(data_prep(df2))"
   ]
  },
  {
   "cell_type": "code",
   "execution_count": 52,
   "metadata": {},
   "outputs": [
    {
     "output_type": "execute_result",
     "data": {
      "text/plain": [
       "BernoulliNB(alpha=1.0, binarize=0.0, class_prior=None, fit_prior=True)"
      ]
     },
     "metadata": {},
     "execution_count": 52
    }
   ],
   "source": [
    "naiveBayes = sklearn.naive_bayes.BernoulliNB()\n",
    "naiveBayes.fit(np.stack(train_df2['vect'], axis=0), train_df2['category'])"
   ]
  },
  {
   "cell_type": "code",
   "execution_count": 53,
   "metadata": {},
   "outputs": [],
   "source": [
    "#Top indices\n",
    "trueVals, falseVals = naiveBayes.feature_log_prob_\n",
    "\n",
    "words_dict = {\n",
    "    'after2014' : [],\n",
    "    'after2014_log_prob' : [],\n",
    "    'before2014' : [],\n",
    "    'before2014_log_prob' : [],\n",
    "}\n",
    "\n",
    "for i, prob in sorted(enumerate(trueVals), key = lambda x:x[1], reverse=True)[:10]:\n",
    "    words_dict['after2014'].append(TFVectorizer.get_feature_names()[i])\n",
    "    words_dict['after2014_log_prob'].append(prob)\n",
    "\n",
    "for i, prob in sorted(enumerate(falseVals), key = lambda x:x[1], reverse=True)[:10]:\n",
    "    words_dict['before2014'].append(TFVectorizer.get_feature_names()[i])\n",
    "    words_dict['before2014_log_prob'].append(prob)\n",
    "    \n",
    "pandas.DataFrame(words_dict).to_csv('output_4/google_words.csv')"
   ]
  },
  {
   "source": [
    "Microsoft"
   ],
   "cell_type": "markdown",
   "metadata": {}
  },
  {
   "cell_type": "code",
   "execution_count": 16,
   "metadata": {},
   "outputs": [],
   "source": [
    "train_df5, test_df5, TFVectorizer= data_split(data_prep(df5))"
   ]
  },
  {
   "cell_type": "code",
   "execution_count": 55,
   "metadata": {},
   "outputs": [
    {
     "output_type": "execute_result",
     "data": {
      "text/plain": [
       "BernoulliNB(alpha=1.0, binarize=0.0, class_prior=None, fit_prior=True)"
      ]
     },
     "metadata": {},
     "execution_count": 55
    }
   ],
   "source": [
    "naiveBayes = sklearn.naive_bayes.BernoulliNB()\n",
    "naiveBayes.fit(np.stack(train_df5['vect'], axis=0), train_df5['category'])"
   ]
  },
  {
   "cell_type": "code",
   "execution_count": 56,
   "metadata": {},
   "outputs": [],
   "source": [
    "#Top indices\n",
    "trueVals, falseVals = naiveBayes.feature_log_prob_\n",
    "\n",
    "words_dict = {\n",
    "    'after2014' : [],\n",
    "    'after2014_log_prob' : [],\n",
    "    'before2014' : [],\n",
    "    'before2014_log_prob' : [],\n",
    "}\n",
    "\n",
    "for i, prob in sorted(enumerate(trueVals), key = lambda x:x[1], reverse=True)[:8]:\n",
    "    words_dict['after2014'].append(TFVectorizer.get_feature_names()[i])\n",
    "    words_dict['after2014_log_prob'].append(prob)\n",
    "\n",
    "for i, prob in sorted(enumerate(falseVals), key = lambda x:x[1], reverse=True)[:8]:\n",
    "    words_dict['before2014'].append(TFVectorizer.get_feature_names()[i])\n",
    "    words_dict['before2014_log_prob'].append(prob)\n",
    "    \n",
    "pandas.DataFrame(words_dict).to_csv('output_4/microsoft_words.csv')"
   ]
  },
  {
   "source": [
    "Facebook"
   ],
   "cell_type": "markdown",
   "metadata": {}
  },
  {
   "cell_type": "code",
   "execution_count": 57,
   "metadata": {},
   "outputs": [
    {
     "output_type": "execute_result",
     "data": {
      "text/plain": [
       "BernoulliNB(alpha=1.0, binarize=0.0, class_prior=None, fit_prior=True)"
      ]
     },
     "metadata": {},
     "execution_count": 57
    }
   ],
   "source": [
    "train_df4, test_df4, TFVectorizer= data_split(data_prep(df4))\n",
    "\n",
    "naiveBayes = sklearn.naive_bayes.BernoulliNB()\n",
    "naiveBayes.fit(np.stack(train_df4['vect'], axis=0), train_df4['category'])"
   ]
  },
  {
   "cell_type": "code",
   "execution_count": 58,
   "metadata": {},
   "outputs": [],
   "source": [
    "#Top indices\n",
    "trueVals, falseVals = naiveBayes.feature_log_prob_\n",
    "\n",
    "words_dict = {\n",
    "    'after2014' : [],\n",
    "    'after2014_log_prob' : [],\n",
    "    'before2014' : [],\n",
    "    'before2014_log_prob' : [],\n",
    "}\n",
    "\n",
    "for i, prob in sorted(enumerate(trueVals), key = lambda x:x[1], reverse=True)[:8]:\n",
    "    words_dict['after2014'].append(TFVectorizer.get_feature_names()[i])\n",
    "    words_dict['after2014_log_prob'].append(prob)\n",
    "\n",
    "for i, prob in sorted(enumerate(falseVals), key = lambda x:x[1], reverse=True)[:8]:\n",
    "    words_dict['before2014'].append(TFVectorizer.get_feature_names()[i])\n",
    "    words_dict['before2014_log_prob'].append(prob)\n",
    "    \n",
    "pandas.DataFrame(words_dict).to_csv('output_4/facebook_words.csv')"
   ]
  },
  {
   "cell_type": "code",
   "execution_count": null,
   "metadata": {},
   "outputs": [],
   "source": []
  },
  {
   "cell_type": "code",
   "execution_count": null,
   "metadata": {},
   "outputs": [],
   "source": []
  },
  {
   "cell_type": "code",
   "execution_count": null,
   "metadata": {},
   "outputs": [],
   "source": []
  },
  {
   "cell_type": "code",
   "execution_count": null,
   "metadata": {},
   "outputs": [],
   "source": []
  },
  {
   "cell_type": "code",
   "execution_count": null,
   "metadata": {},
   "outputs": [],
   "source": []
  },
  {
   "cell_type": "code",
   "execution_count": null,
   "metadata": {},
   "outputs": [],
   "source": []
  }
 ],
 "metadata": {
  "anaconda-cloud": {},
  "kernelspec": {
   "display_name": "Python 3",
   "language": "python",
   "name": "python3"
  },
  "language_info": {
   "codemirror_mode": {
    "name": "ipython",
    "version": 3
   },
   "file_extension": ".py",
   "mimetype": "text/x-python",
   "name": "python",
   "nbconvert_exporter": "python",
   "pygments_lexer": "ipython3",
   "version": "3.7.4-final"
  }
 },
 "nbformat": 4,
 "nbformat_minor": 1
}